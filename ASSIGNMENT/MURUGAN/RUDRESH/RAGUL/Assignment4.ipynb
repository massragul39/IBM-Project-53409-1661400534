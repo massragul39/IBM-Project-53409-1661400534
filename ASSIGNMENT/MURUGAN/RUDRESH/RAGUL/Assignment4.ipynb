{
  "nbformat": 4,
  "nbformat_minor": 0,
  "metadata": {
    "colab": {
      "provenance": [],
      "collapsed_sections": [],
      "include_colab_link": true
    },
    "kernelspec": {
      "name": "python3",
      "display_name": "Python 3"
    },
    "language_info": {
      "name": "python"
    }
  },
  "cells": [
    {
      "cell_type": "markdown",
      "metadata": {
        "id": "view-in-github",
        "colab_type": "text"
      },
      "source": [
        "<a href=\"https://colab.research.google.com/github/IBM-EPBL/IBM-Project-16739-1659621305/blob/main/Assignments/Team%20Member%201/Kareeshini_Assignment4.ipynb\" target=\"_parent\"><img src=\"https://colab.research.google.com/assets/colab-badge.svg\" alt=\"Open In Colab\"/></a>"
      ]
    },
    {
      "cell_type": "markdown",
      "source": [
        "#ASSIGNMENT-4"
      ],
      "metadata": {
        "id": "UkVannUTN9uC"
      }
    },
    {
      "cell_type": "code",
      "execution_count": 3,
      "metadata": {
        "id": "SCb9MhLvNrkc"
      },
      "outputs": [],
      "source": [
        "import pandas as pd\n",
        "import numpy as np\n",
        "import seaborn as sns\n",
        "import matplotlib.pyplot as plt\n"
      ]
    },
    {
      "cell_type": "markdown",
      "source": [
        "#2. LOADING DATASET"
      ],
      "metadata": {
        "id": "T57M9QqrONBF"
      }
    },
    {
      "cell_type": "code",
      "source": [
        "#import dataset\n",
        "\n",
        "data = pd.read_csv(\"Mall_Customers.csv\")"
      ],
      "metadata": {
        "id": "CFxCDfw0OHLV"
      },
      "execution_count": 4,
      "outputs": []
    },
    {
      "cell_type": "code",
      "source": [
        "data.head()"
      ],
      "metadata": {
        "colab": {
          "base_uri": "https://localhost:8080/",
          "height": 206
        },
        "id": "PGIOSDtkN7wp",
        "outputId": "4af7ca62-1e6f-4a65-c69c-3f52cc3fd933"
      },
      "execution_count": 5,
      "outputs": [
        {
          "output_type": "execute_result",
          "data": {
            "text/plain": [
              "   CustomerID  Gender  Age  Annual Income (k$)  Spending Score (1-100)\n",
              "0           1    Male   19                  15                      39\n",
              "1           2    Male   21                  15                      81\n",
              "2           3  Female   20                  16                       6\n",
              "3           4  Female   23                  16                      77\n",
              "4           5  Female   31                  17                      40"
            ],
            "text/html": [
              "\n",
              "  <div id=\"df-6066aa7c-21c3-48ca-9a8d-ace0e47d7d2e\">\n",
              "    <div class=\"colab-df-container\">\n",
              "      <div>\n",
              "<style scoped>\n",
              "    .dataframe tbody tr th:only-of-type {\n",
              "        vertical-align: middle;\n",
              "    }\n",
              "\n",
              "    .dataframe tbody tr th {\n",
              "        vertical-align: top;\n",
              "    }\n",
              "\n",
              "    .dataframe thead th {\n",
              "        text-align: right;\n",
              "    }\n",
              "</style>\n",
              "<table border=\"1\" class=\"dataframe\">\n",
              "  <thead>\n",
              "    <tr style=\"text-align: right;\">\n",
              "      <th></th>\n",
              "      <th>CustomerID</th>\n",
              "      <th>Gender</th>\n",
              "      <th>Age</th>\n",
              "      <th>Annual Income (k$)</th>\n",
              "      <th>Spending Score (1-100)</th>\n",
              "    </tr>\n",
              "  </thead>\n",
              "  <tbody>\n",
              "    <tr>\n",
              "      <th>0</th>\n",
              "      <td>1</td>\n",
              "      <td>Male</td>\n",
              "      <td>19</td>\n",
              "      <td>15</td>\n",
              "      <td>39</td>\n",
              "    </tr>\n",
              "    <tr>\n",
              "      <th>1</th>\n",
              "      <td>2</td>\n",
              "      <td>Male</td>\n",
              "      <td>21</td>\n",
              "      <td>15</td>\n",
              "      <td>81</td>\n",
              "    </tr>\n",
              "    <tr>\n",
              "      <th>2</th>\n",
              "      <td>3</td>\n",
              "      <td>Female</td>\n",
              "      <td>20</td>\n",
              "      <td>16</td>\n",
              "      <td>6</td>\n",
              "    </tr>\n",
              "    <tr>\n",
              "      <th>3</th>\n",
              "      <td>4</td>\n",
              "      <td>Female</td>\n",
              "      <td>23</td>\n",
              "      <td>16</td>\n",
              "      <td>77</td>\n",
              "    </tr>\n",
              "    <tr>\n",
              "      <th>4</th>\n",
              "      <td>5</td>\n",
              "      <td>Female</td>\n",
              "      <td>31</td>\n",
              "      <td>17</td>\n",
              "      <td>40</td>\n",
              "    </tr>\n",
              "  </tbody>\n",
              "</table>\n",
              "</div>\n",
              "      <button class=\"colab-df-convert\" onclick=\"convertToInteractive('df-6066aa7c-21c3-48ca-9a8d-ace0e47d7d2e')\"\n",
              "              title=\"Convert this dataframe to an interactive table.\"\n",
              "              style=\"display:none;\">\n",
              "        \n",
              "  <svg xmlns=\"http://www.w3.org/2000/svg\" height=\"24px\"viewBox=\"0 0 24 24\"\n",
              "       width=\"24px\">\n",
              "    <path d=\"M0 0h24v24H0V0z\" fill=\"none\"/>\n",
              "    <path d=\"M18.56 5.44l.94 2.06.94-2.06 2.06-.94-2.06-.94-.94-2.06-.94 2.06-2.06.94zm-11 1L8.5 8.5l.94-2.06 2.06-.94-2.06-.94L8.5 2.5l-.94 2.06-2.06.94zm10 10l.94 2.06.94-2.06 2.06-.94-2.06-.94-.94-2.06-.94 2.06-2.06.94z\"/><path d=\"M17.41 7.96l-1.37-1.37c-.4-.4-.92-.59-1.43-.59-.52 0-1.04.2-1.43.59L10.3 9.45l-7.72 7.72c-.78.78-.78 2.05 0 2.83L4 21.41c.39.39.9.59 1.41.59.51 0 1.02-.2 1.41-.59l7.78-7.78 2.81-2.81c.8-.78.8-2.07 0-2.86zM5.41 20L4 18.59l7.72-7.72 1.47 1.35L5.41 20z\"/>\n",
              "  </svg>\n",
              "      </button>\n",
              "      \n",
              "  <style>\n",
              "    .colab-df-container {\n",
              "      display:flex;\n",
              "      flex-wrap:wrap;\n",
              "      gap: 12px;\n",
              "    }\n",
              "\n",
              "    .colab-df-convert {\n",
              "      background-color: #E8F0FE;\n",
              "      border: none;\n",
              "      border-radius: 50%;\n",
              "      cursor: pointer;\n",
              "      display: none;\n",
              "      fill: #1967D2;\n",
              "      height: 32px;\n",
              "      padding: 0 0 0 0;\n",
              "      width: 32px;\n",
              "    }\n",
              "\n",
              "    .colab-df-convert:hover {\n",
              "      background-color: #E2EBFA;\n",
              "      box-shadow: 0px 1px 2px rgba(60, 64, 67, 0.3), 0px 1px 3px 1px rgba(60, 64, 67, 0.15);\n",
              "      fill: #174EA6;\n",
              "    }\n",
              "\n",
              "    [theme=dark] .colab-df-convert {\n",
              "      background-color: #3B4455;\n",
              "      fill: #D2E3FC;\n",
              "    }\n",
              "\n",
              "    [theme=dark] .colab-df-convert:hover {\n",
              "      background-color: #434B5C;\n",
              "      box-shadow: 0px 1px 3px 1px rgba(0, 0, 0, 0.15);\n",
              "      filter: drop-shadow(0px 1px 2px rgba(0, 0, 0, 0.3));\n",
              "      fill: #FFFFFF;\n",
              "    }\n",
              "  </style>\n",
              "\n",
              "      <script>\n",
              "        const buttonEl =\n",
              "          document.querySelector('#df-6066aa7c-21c3-48ca-9a8d-ace0e47d7d2e button.colab-df-convert');\n",
              "        buttonEl.style.display =\n",
              "          google.colab.kernel.accessAllowed ? 'block' : 'none';\n",
              "\n",
              "        async function convertToInteractive(key) {\n",
              "          const element = document.querySelector('#df-6066aa7c-21c3-48ca-9a8d-ace0e47d7d2e');\n",
              "          const dataTable =\n",
              "            await google.colab.kernel.invokeFunction('convertToInteractive',\n",
              "                                                     [key], {});\n",
              "          if (!dataTable) return;\n",
              "\n",
              "          const docLinkHtml = 'Like what you see? Visit the ' +\n",
              "            '<a target=\"_blank\" href=https://colab.research.google.com/notebooks/data_table.ipynb>data table notebook</a>'\n",
              "            + ' to learn more about interactive tables.';\n",
              "          element.innerHTML = '';\n",
              "          dataTable['output_type'] = 'display_data';\n",
              "          await google.colab.output.renderOutput(dataTable, element);\n",
              "          const docLink = document.createElement('div');\n",
              "          docLink.innerHTML = docLinkHtml;\n",
              "          element.appendChild(docLink);\n",
              "        }\n",
              "      </script>\n",
              "    </div>\n",
              "  </div>\n",
              "  "
            ]
          },
          "metadata": {},
          "execution_count": 5
        }
      ]
    },
    {
      "cell_type": "markdown",
      "source": [
        "#3.VISUALIZATION"
      ],
      "metadata": {
        "id": "RbDbjiQWPKUz"
      }
    },
    {
      "cell_type": "markdown",
      "source": [
        "\n",
        "\n",
        "*   . UNIVARIATE\n",
        "\n"
      ],
      "metadata": {
        "id": "Gi-S8mI5PPyI"
      }
    },
    {
      "cell_type": "code",
      "source": [
        "plt.hist(data['Annual Income (k$)'])"
      ],
      "metadata": {
        "colab": {
          "base_uri": "https://localhost:8080/",
          "height": 334
        },
        "id": "ynjxytp8PiQF",
        "outputId": "c0478129-17f3-4852-f316-bc871e8ca1c8"
      },
      "execution_count": 6,
      "outputs": [
        {
          "output_type": "execute_result",
          "data": {
            "text/plain": [
              "(array([24., 22., 28., 38., 30., 36.,  8.,  6.,  4.,  4.]),\n",
              " array([ 15. ,  27.2,  39.4,  51.6,  63.8,  76. ,  88.2, 100.4, 112.6,\n",
              "        124.8, 137. ]),\n",
              " <a list of 10 Patch objects>)"
            ]
          },
          "metadata": {},
          "execution_count": 6
        },
        {
          "output_type": "display_data",
          "data": {
            "text/plain": [
              "<Figure size 432x288 with 1 Axes>"
            ],
            "image/png": "[encoded data removed]"
          },
          "metadata": {
            "needs_background": "light"
          }
        }
      ]
    },
    {
      "cell_type": "markdown",
      "source": [
        "\n",
        "\n",
        "*   BIVARIATE\n",
        "\n"
      ],
      "metadata": {
        "id": "jMik2jH4PrZe"
      }
    },
    {
      "cell_type": "code",
      "source": [
        "plt.scatter(data['Annual Income (k$)'],data['Age'])"
      ],
      "metadata": {
        "colab": {
          "base_uri": "https://localhost:8080/",
          "height": 282
        },
        "id": "uET_2ot0PX_6",
        "outputId": "457a0976-5a6e-4250-94cb-47e9cb051f9f"
      },
      "execution_count": 7,
      "outputs": [
        {
          "output_type": "execute_result",
          "data": {
            "text/plain": [
              "<matplotlib.collections.PathCollection at 0x7f003ce02850>"
            ]
          },
          "metadata": {},
          "execution_count": 7
        },
        {
          "output_type": "display_data",
          "data": {
            "text/plain": [
              "<Figure size 432x288 with 1 Axes>"
            ],
            "image/png": "[encoded data removed]"
          },
          "metadata": {
            "needs_background": "light"
          }
        }
      ]
    },
    {
      "cell_type": "markdown",
      "source": [
        "\n",
        "\n",
        "*   MULTIVARIATE\n",
        "\n"
      ],
      "metadata": {
        "id": "rDHwXq0MQB4t"
      }
    },
    {
      "cell_type": "code",
      "source": [
        "sns.pairplot(data,hue='Gender')"
      ],
      "metadata": {
        "colab": {
          "base_uri": "https://localhost:8080/",
          "height": 743
        },
        "id": "W3Ndc4hlQHU5",
        "outputId": "3af75b12-6829-43d2-d8bc-b25b94ed7960"
      },
      "execution_count": 8,
      "outputs": [
        {
          "output_type": "execute_result",
          "data": {
            "text/plain": [
              "<seaborn.axisgrid.PairGrid at 0x7f003ce52f50>"
            ]
          },
          "metadata": {},
          "execution_count": 8
        },
        {
          "output_type": "display_data",
          "data": {
            "text/plain": [
              "<Figure size 792.125x720 with 20 Axes>"
            ],
            "image/png": "[encoded data removed]"
          },
          "metadata": {
            "needs_background": "light"
          }
        }
      ]
    },
    {
      "cell_type": "markdown",
      "source": [
        "#4.DESCRIPTIVE STATISTICS"
      ],
      "metadata": {
        "id": "1W1gKeA1QTBv"
      }
    },
    {
      "cell_type": "code",
      "source": [
        "data.describe()"
      ],
      "metadata": {
        "colab": {
          "base_uri": "https://localhost:8080/",
          "height": 300
        },
        "id": "z4pfvKX8QY9r",
        "outputId": "e42932bb-3b6d-4d9e-c382-c33da07e6ed3"
      },
      "execution_count": 9,
      "outputs": [
        {
          "output_type": "execute_result",
          "data": {
            "text/plain": [
              "       CustomerID         Age  Annual Income (k$)  Spending Score (1-100)\n",
              "count  200.000000  200.000000          200.000000              200.000000\n",
              "mean   100.500000   38.850000           60.560000               50.200000\n",
              "std     57.879185   13.969007           26.264721               25.823522\n",
              "min      1.000000   18.000000           15.000000                1.000000\n",
              "25%     50.750000   28.750000           41.500000               34.750000\n",
              "50%    100.500000   36.000000           61.500000               50.000000\n",
              "75%    150.250000   49.000000           78.000000               73.000000\n",
              "max    200.000000   70.000000          137.000000               99.000000"
            ],
            "text/html": [
              "\n",
              "  <div id=\"df-962e94a9-19f8-44a6-9784-d0515335a609\">\n",
              "    <div class=\"colab-df-container\">\n",
              "      <div>\n",
              "<style scoped>\n",
              "    .dataframe tbody tr th:only-of-type {\n",
              "        vertical-align: middle;\n",
              "    }\n",
              "\n",
              "    .dataframe tbody tr th {\n",
              "        vertical-align: top;\n",
              "    }\n",
              "\n",
              "    .dataframe thead th {\n",
              "        text-align: right;\n",
              "    }\n",
              "</style>\n",
              "<table border=\"1\" class=\"dataframe\">\n",
              "  <thead>\n",
              "    <tr style=\"text-align: right;\">\n",
              "      <th></th>\n",
              "      <th>CustomerID</th>\n",
              "      <th>Age</th>\n",
              "      <th>Annual Income (k$)</th>\n",
              "      <th>Spending Score (1-100)</th>\n",
              "    </tr>\n",
              "  </thead>\n",
              "  <tbody>\n",
              "    <tr>\n",
              "      <th>count</th>\n",
              "      <td>200.000000</td>\n",
              "      <td>200.000000</td>\n",
              "      <td>200.000000</td>\n",
              "      <td>200.000000</td>\n",
              "    </tr>\n",
              "    <tr>\n",
              "      <th>mean</th>\n",
              "      <td>100.500000</td>\n",
              "      <td>38.850000</td>\n",
              "      <td>60.560000</td>\n",
              "      <td>50.200000</td>\n",
              "    </tr>\n",
              "    <tr>\n",
              "      <th>std</th>\n",
              "      <td>57.879185</td>\n",
              "      <td>13.969007</td>\n",
              "      <td>26.264721</td>\n",
              "      <td>25.823522</td>\n",
              "    </tr>\n",
              "    <tr>\n",
              "      <th>min</th>\n",
              "      <td>1.000000</td>\n",
              "      <td>18.000000</td>\n",
              "      <td>15.000000</td>\n",
              "      <td>1.000000</td>\n",
              "    </tr>\n",
              "    <tr>\n",
              "      <th>25%</th>\n",
              "      <td>50.750000</td>\n",
              "      <td>28.750000</td>\n",
              "      <td>41.500000</td>\n",
              "      <td>34.750000</td>\n",
              "    </tr>\n",
              "    <tr>\n",
              "      <th>50%</th>\n",
              "      <td>100.500000</td>\n",
              "      <td>36.000000</td>\n",
              "      <td>61.500000</td>\n",
              "      <td>50.000000</td>\n",
              "    </tr>\n",
              "    <tr>\n",
              "      <th>75%</th>\n",
              "      <td>150.250000</td>\n",
              "      <td>49.000000</td>\n",
              "      <td>78.000000</td>\n",
              "      <td>73.000000</td>\n",
              "    </tr>\n",
              "    <tr>\n",
              "      <th>max</th>\n",
              "      <td>200.000000</td>\n",
              "      <td>70.000000</td>\n",
              "      <td>137.000000</td>\n",
              "      <td>99.000000</td>\n",
              "    </tr>\n",
              "  </tbody>\n",
              "</table>\n",
              "</div>\n",
              "      <button class=\"colab-df-convert\" onclick=\"convertToInteractive('df-962e94a9-19f8-44a6-9784-d0515335a609')\"\n",
              "              title=\"Convert this dataframe to an interactive table.\"\n",
              "              style=\"display:none;\">\n",
              "        \n",
              "  <svg xmlns=\"http://www.w3.org/2000/svg\" height=\"24px\"viewBox=\"0 0 24 24\"\n",
              "       width=\"24px\">\n",
              "    <path d=\"M0 0h24v24H0V0z\" fill=\"none\"/>\n",
              "    <path d=\"M18.56 5.44l.94 2.06.94-2.06 2.06-.94-2.06-.94-.94-2.06-.94 2.06-2.06.94zm-11 1L8.5 8.5l.94-2.06 2.06-.94-2.06-.94L8.5 2.5l-.94 2.06-2.06.94zm10 10l.94 2.06.94-2.06 2.06-.94-2.06-.94-.94-2.06-.94 2.06-2.06.94z\"/><path d=\"M17.41 7.96l-1.37-1.37c-.4-.4-.92-.59-1.43-.59-.52 0-1.04.2-1.43.59L10.3 9.45l-7.72 7.72c-.78.78-.78 2.05 0 2.83L4 21.41c.39.39.9.59 1.41.59.51 0 1.02-.2 1.41-.59l7.78-7.78 2.81-2.81c.8-.78.8-2.07 0-2.86zM5.41 20L4 18.59l7.72-7.72 1.47 1.35L5.41 20z\"/>\n",
              "  </svg>\n",
              "      </button>\n",
              "      \n",
              "  <style>\n",
              "    .colab-df-container {\n",
              "      display:flex;\n",
              "      flex-wrap:wrap;\n",
              "      gap: 12px;\n",
              "    }\n",
              "\n",
              "    .colab-df-convert {\n",
              "      background-color: #E8F0FE;\n",
              "      border: none;\n",
              "      border-radius: 50%;\n",
              "      cursor: pointer;\n",
              "      display: none;\n",
              "      fill: #1967D2;\n",
              "      height: 32px;\n",
              "      padding: 0 0 0 0;\n",
              "      width: 32px;\n",
              "    }\n",
              "\n",
              "    .colab-df-convert:hover {\n",
              "      background-color: #E2EBFA;\n",
              "      box-shadow: 0px 1px 2px rgba(60, 64, 67, 0.3), 0px 1px 3px 1px rgba(60, 64, 67, 0.15);\n",
              "      fill: #174EA6;\n",
              "    }\n",
              "\n",
              "    [theme=dark] .colab-df-convert {\n",
              "      background-color: #3B4455;\n",
              "      fill: #D2E3FC;\n",
              "    }\n",
              "\n",
              "    [theme=dark] .colab-df-convert:hover {\n",
              "      background-color: #434B5C;\n",
              "      box-shadow: 0px 1px 3px 1px rgba(0, 0, 0, 0.15);\n",
              "      filter: drop-shadow(0px 1px 2px rgba(0, 0, 0, 0.3));\n",
              "      fill: #FFFFFF;\n",
              "    }\n",
              "  </style>\n",
              "\n",
              "      <script>\n",
              "        const buttonEl =\n",
              "          document.querySelector('#df-962e94a9-19f8-44a6-9784-d0515335a609 button.colab-df-convert');\n",
              "        buttonEl.style.display =\n",
              "          google.colab.kernel.accessAllowed ? 'block' : 'none';\n",
              "\n",
              "        async function convertToInteractive(key) {\n",
              "          const element = document.querySelector('#df-962e94a9-19f8-44a6-9784-d0515335a609');\n",
              "          const dataTable =\n",
              "            await google.colab.kernel.invokeFunction('convertToInteractive',\n",
              "                                                     [key], {});\n",
              "          if (!dataTable) return;\n",
              "\n",
              "          const docLinkHtml = 'Like what you see? Visit the ' +\n",
              "            '<a target=\"_blank\" href=https://colab.research.google.com/notebooks/data_table.ipynb>data table notebook</a>'\n",
              "            + ' to learn more about interactive tables.';\n",
              "          element.innerHTML = '';\n",
              "          dataTable['output_type'] = 'display_data';\n",
              "          await google.colab.output.renderOutput(dataTable, element);\n",
              "          const docLink = document.createElement('div');\n",
              "          docLink.innerHTML = docLinkHtml;\n",
              "          element.appendChild(docLink);\n",
              "        }\n",
              "      </script>\n",
              "    </div>\n",
              "  </div>\n",
              "  "
            ]
          },
          "metadata": {},
          "execution_count": 9
        }
      ]
    },
    {
      "cell_type": "markdown",
      "source": [
        "#5.MISSING VALUE"
      ],
      "metadata": {
        "id": "NnLlWvE9QhEU"
      }
    },
    {
      "cell_type": "code",
      "source": [
        "data.isna().sum() #No missing values"
      ],
      "metadata": {
        "colab": {
          "base_uri": "https://localhost:8080/"
        },
        "id": "emUxFkwiQmIG",
        "outputId": "468672de-238e-4eec-ac3e-fa94356793ad"
      },
      "execution_count": 10,
      "outputs": [
        {
          "output_type": "execute_result",
          "data": {
            "text/plain": [
              "CustomerID                0\n",
              "Gender                    0\n",
              "Age                       0\n",
              "Annual Income (k$)        0\n",
              "Spending Score (1-100)    0\n",
              "dtype: int64"
            ]
          },
          "metadata": {},
          "execution_count": 10
        }
      ]
    },
    {
      "cell_type": "markdown",
      "source": [
        "#6.OUTLIERS"
      ],
      "metadata": {
        "id": "kvfn7IbcQtDK"
      }
    },
    {
      "cell_type": "code",
      "source": [
        "data.plot(kind=\"box\",subplots=True,layout=(7,4),figsize=(25,30));"
      ],
      "metadata": {
        "colab": {
          "base_uri": "https://localhost:8080/",
          "height": 210
        },
        "id": "oXpSEkoUQxGx",
        "outputId": "38f9545d-6cfa-46b7-a9ce-a07a7553d510"
      },
      "execution_count": 11,
      "outputs": [
        {
          "output_type": "display_data",
          "data": {
            "text/plain": [
              "<Figure size 1800x2160 with 28 Axes>"
            ],
            "image/png": "[encoded data removed]"
          },
          "metadata": {
            "needs_background": "light"
          }
        }
      ]
    },
    {
      "cell_type": "code",
      "source": [
        "qnt=data.quantile(q=[0.25,0.75])\n",
        "qnt"
      ],
      "metadata": {
        "colab": {
          "base_uri": "https://localhost:8080/",
          "height": 112
        },
        "id": "3XeJkUQXQ4TI",
        "outputId": "e8c57bad-91b7-4e3f-c474-b03ebf365e97"
      },
      "execution_count": 12,
      "outputs": [
        {
          "output_type": "execute_result",
          "data": {
            "text/plain": [
              "      CustomerID    Age  Annual Income (k$)  Spending Score (1-100)\n",
              "0.25       50.75  28.75                41.5                   34.75\n",
              "0.75      150.25  49.00                78.0                   73.00"
            ],
            "text/html": [
              "\n",
              "  <div id=\"df-833d53bc-de56-402f-a9c8-e9e681a35451\">\n",
              "    <div class=\"colab-df-container\">\n",
              "      <div>\n",
              "<style scoped>\n",
              "    .dataframe tbody tr th:only-of-type {\n",
              "        vertical-align: middle;\n",
              "    }\n",
              "\n",
              "    .dataframe tbody tr th {\n",
              "        vertical-align: top;\n",
              "    }\n",
              "\n",
              "    .dataframe thead th {\n",
              "        text-align: right;\n",
              "    }\n",
              "</style>\n",
              "<table border=\"1\" class=\"dataframe\">\n",
              "  <thead>\n",
              "    <tr style=\"text-align: right;\">\n",
              "      <th></th>\n",
              "      <th>CustomerID</th>\n",
              "      <th>Age</th>\n",
              "      <th>Annual Income (k$)</th>\n",
              "      <th>Spending Score (1-100)</th>\n",
              "    </tr>\n",
              "  </thead>\n",
              "  <tbody>\n",
              "    <tr>\n",
              "      <th>0.25</th>\n",
              "      <td>50.75</td>\n",
              "      <td>28.75</td>\n",
              "      <td>41.5</td>\n",
              "      <td>34.75</td>\n",
              "    </tr>\n",
              "    <tr>\n",
              "      <th>0.75</th>\n",
              "      <td>150.25</td>\n",
              "      <td>49.00</td>\n",
              "      <td>78.0</td>\n",
              "      <td>73.00</td>\n",
              "    </tr>\n",
              "  </tbody>\n",
              "</table>\n",
              "</div>\n",
              "      <button class=\"colab-df-convert\" onclick=\"convertToInteractive('df-833d53bc-de56-402f-a9c8-e9e681a35451')\"\n",
              "              title=\"Convert this dataframe to an interactive table.\"\n",
              "              style=\"display:none;\">\n",
              "        \n",
              "  <svg xmlns=\"http://www.w3.org/2000/svg\" height=\"24px\"viewBox=\"0 0 24 24\"\n",
              "       width=\"24px\">\n",
              "    <path d=\"M0 0h24v24H0V0z\" fill=\"none\"/>\n",
              "    <path d=\"M18.56 5.44l.94 2.06.94-2.06 2.06-.94-2.06-.94-.94-2.06-.94 2.06-2.06.94zm-11 1L8.5 8.5l.94-2.06 2.06-.94-2.06-.94L8.5 2.5l-.94 2.06-2.06.94zm10 10l.94 2.06.94-2.06 2.06-.94-2.06-.94-.94-2.06-.94 2.06-2.06.94z\"/><path d=\"M17.41 7.96l-1.37-1.37c-.4-.4-.92-.59-1.43-.59-.52 0-1.04.2-1.43.59L10.3 9.45l-7.72 7.72c-.78.78-.78 2.05 0 2.83L4 21.41c.39.39.9.59 1.41.59.51 0 1.02-.2 1.41-.59l7.78-7.78 2.81-2.81c.8-.78.8-2.07 0-2.86zM5.41 20L4 18.59l7.72-7.72 1.47 1.35L5.41 20z\"/>\n",
              "  </svg>\n",
              "      </button>\n",
              "      \n",
              "  <style>\n",
              "    .colab-df-container {\n",
              "      display:flex;\n",
              "      flex-wrap:wrap;\n",
              "      gap: 12px;\n",
              "    }\n",
              "\n",
              "    .colab-df-convert {\n",
              "      background-color: #E8F0FE;\n",
              "      border: none;\n",
              "      border-radius: 50%;\n",
              "      cursor: pointer;\n",
              "      display: none;\n",
              "      fill: #1967D2;\n",
              "      height: 32px;\n",
              "      padding: 0 0 0 0;\n",
              "      width: 32px;\n",
              "    }\n",
              "\n",
              "    .colab-df-convert:hover {\n",
              "      background-color: #E2EBFA;\n",
              "      box-shadow: 0px 1px 2px rgba(60, 64, 67, 0.3), 0px 1px 3px 1px rgba(60, 64, 67, 0.15);\n",
              "      fill: #174EA6;\n",
              "    }\n",
              "\n",
              "    [theme=dark] .colab-df-convert {\n",
              "      background-color: #3B4455;\n",
              "      fill: #D2E3FC;\n",
              "    }\n",
              "\n",
              "    [theme=dark] .colab-df-convert:hover {\n",
              "      background-color: #434B5C;\n",
              "      box-shadow: 0px 1px 3px 1px rgba(0, 0, 0, 0.15);\n",
              "      filter: drop-shadow(0px 1px 2px rgba(0, 0, 0, 0.3));\n",
              "      fill: #FFFFFF;\n",
              "    }\n",
              "  </style>\n",
              "\n",
              "      <script>\n",
              "        const buttonEl =\n",
              "          document.querySelector('#df-833d53bc-de56-402f-a9c8-e9e681a35451 button.colab-df-convert');\n",
              "        buttonEl.style.display =\n",
              "          google.colab.kernel.accessAllowed ? 'block' : 'none';\n",
              "\n",
              "        async function convertToInteractive(key) {\n",
              "          const element = document.querySelector('#df-833d53bc-de56-402f-a9c8-e9e681a35451');\n",
              "          const dataTable =\n",
              "            await google.colab.kernel.invokeFunction('convertToInteractive',\n",
              "                                                     [key], {});\n",
              "          if (!dataTable) return;\n",
              "\n",
              "          const docLinkHtml = 'Like what you see? Visit the ' +\n",
              "            '<a target=\"_blank\" href=https://colab.research.google.com/notebooks/data_table.ipynb>data table notebook</a>'\n",
              "            + ' to learn more about interactive tables.';\n",
              "          element.innerHTML = '';\n",
              "          dataTable['output_type'] = 'display_data';\n",
              "          await google.colab.output.renderOutput(dataTable, element);\n",
              "          const docLink = document.createElement('div');\n",
              "          docLink.innerHTML = docLinkHtml;\n",
              "          element.appendChild(docLink);\n",
              "        }\n",
              "      </script>\n",
              "    </div>\n",
              "  </div>\n",
              "  "
            ]
          },
          "metadata": {},
          "execution_count": 12
        }
      ]
    },
    {
      "cell_type": "code",
      "source": [
        "iqr=qnt.loc[0.75]-qnt.loc[0.25] \n",
        "iqr"
      ],
      "metadata": {
        "colab": {
          "base_uri": "https://localhost:8080/"
        },
        "id": "UyKz_TB1Q84C",
        "outputId": "2d0eb573-1685-4258-8762-0bf2f9809061"
      },
      "execution_count": 13,
      "outputs": [
        {
          "output_type": "execute_result",
          "data": {
            "text/plain": [
              "CustomerID                99.50\n",
              "Age                       20.25\n",
              "Annual Income (k$)        36.50\n",
              "Spending Score (1-100)    38.25\n",
              "dtype: float64"
            ]
          },
          "metadata": {},
          "execution_count": 13
        }
      ]
    },
    {
      "cell_type": "code",
      "source": [
        "lower=qnt.loc[0.25]-(1.5*iqr)\n",
        "lower"
      ],
      "metadata": {
        "colab": {
          "base_uri": "https://localhost:8080/"
        },
        "id": "fSdbvrQdRCJz",
        "outputId": "dd8715b2-8821-455d-aade-db12ad756e4e"
      },
      "execution_count": 14,
      "outputs": [
        {
          "output_type": "execute_result",
          "data": {
            "text/plain": [
              "CustomerID               -98.500\n",
              "Age                       -1.625\n",
              "Annual Income (k$)       -13.250\n",
              "Spending Score (1-100)   -22.625\n",
              "dtype: float64"
            ]
          },
          "metadata": {},
          "execution_count": 14
        }
      ]
    },
    {
      "cell_type": "code",
      "source": [
        "upper=qnt.loc[0.75]+(1.5*iqr)\n",
        "upper"
      ],
      "metadata": {
        "colab": {
          "base_uri": "https://localhost:8080/"
        },
        "id": "-S5NjDM2RGv0",
        "outputId": "4dc0d3cd-672b-4059-eef4-58f57038267d"
      },
      "execution_count": 15,
      "outputs": [
        {
          "output_type": "execute_result",
          "data": {
            "text/plain": [
              "CustomerID                299.500\n",
              "Age                        79.375\n",
              "Annual Income (k$)        132.750\n",
              "Spending Score (1-100)    130.375\n",
              "dtype: float64"
            ]
          },
          "metadata": {},
          "execution_count": 15
        }
      ]
    },
    {
      "cell_type": "code",
      "source": [
        "data.mean()"
      ],
      "metadata": {
        "colab": {
          "base_uri": "https://localhost:8080/"
        },
        "id": "U429KV07RJti",
        "outputId": "293703f6-e36d-45ed-f8b9-dabe4d473e1e"
      },
      "execution_count": 16,
      "outputs": [
        {
          "output_type": "stream",
          "name": "stderr",
          "text": [
            "/usr/local/lib/python3.7/dist-packages/ipykernel_launcher.py:1: FutureWarning: Dropping of nuisance columns in DataFrame reductions (with 'numeric_only=None') is deprecated; in a future version this will raise TypeError.  Select only valid columns before calling the reduction.\n",
            "  \"\"\"Entry point for launching an IPython kernel.\n"
          ]
        },
        {
          "output_type": "execute_result",
          "data": {
            "text/plain": [
              "CustomerID                100.50\n",
              "Age                        38.85\n",
              "Annual Income (k$)         60.56\n",
              "Spending Score (1-100)     50.20\n",
              "dtype: float64"
            ]
          },
          "metadata": {},
          "execution_count": 16
        }
      ]
    },
    {
      "cell_type": "markdown",
      "source": [
        "\n",
        "\n",
        "*   ANNUAL INCOME(K$)\n",
        "\n"
      ],
      "metadata": {
        "id": "0SPmx91WRR97"
      }
    },
    {
      "cell_type": "code",
      "source": [
        "data['Annual Income (k$)']=np.where(data['Annual Income (k$)']>132.75,60.56,data['Annual Income (k$)'])"
      ],
      "metadata": {
        "id": "DgopdYLZRYOx"
      },
      "execution_count": 17,
      "outputs": []
    },
    {
      "cell_type": "code",
      "source": [
        "sns.boxplot(x=data['Annual Income (k$)'])"
      ],
      "metadata": {
        "colab": {
          "base_uri": "https://localhost:8080/",
          "height": 296
        },
        "id": "tyDojsGwRfC7",
        "outputId": "0b622a70-525a-4724-c1cb-db81e8f71e5c"
      },
      "execution_count": 18,
      "outputs": [
        {
          "output_type": "execute_result",
          "data": {
            "text/plain": [
              "<matplotlib.axes._subplots.AxesSubplot at 0x7f00557a7910>"
            ]
          },
          "metadata": {},
          "execution_count": 18
        },
        {
          "output_type": "display_data",
          "data": {
            "text/plain": [
              "<Figure size 432x288 with 1 Axes>"
            ],
            "image/png": "[encoded data removed]"
          },
          "metadata": {
            "needs_background": "light"
          }
        }
      ]
    },
    {
      "cell_type": "markdown",
      "source": [
        "#7.CHECK FOR CATEGORICAL COLUMNS AND PERFORM ENCODING"
      ],
      "metadata": {
        "id": "lJKcDgk9Rj3h"
      }
    },
    {
      "cell_type": "code",
      "source": [
        "data.info()"
      ],
      "metadata": {
        "colab": {
          "base_uri": "https://localhost:8080/"
        },
        "id": "zsCh2tY1RupX",
        "outputId": "fa192772-3dbf-4836-c374-bb61583557a9"
      },
      "execution_count": 19,
      "outputs": [
        {
          "output_type": "stream",
          "name": "stdout",
          "text": [
            "<class 'pandas.core.frame.DataFrame'>\n",
            "RangeIndex: 200 entries, 0 to 199\n",
            "Data columns (total 5 columns):\n",
            " #   Column                  Non-Null Count  Dtype  \n",
            "---  ------                  --------------  -----  \n",
            " 0   CustomerID              200 non-null    int64  \n",
            " 1   Gender                  200 non-null    object \n",
            " 2   Age                     200 non-null    int64  \n",
            " 3   Annual Income (k$)      200 non-null    float64\n",
            " 4   Spending Score (1-100)  200 non-null    int64  \n",
            "dtypes: float64(1), int64(3), object(1)\n",
            "memory usage: 7.9+ KB\n"
          ]
        }
      ]
    },
    {
      "cell_type": "code",
      "source": [
        "data['Gender'].unique()"
      ],
      "metadata": {
        "colab": {
          "base_uri": "https://localhost:8080/"
        },
        "id": "PCQUi0rhR073",
        "outputId": "fae887ab-b209-4df9-f0f4-70a7304362d9"
      },
      "execution_count": 20,
      "outputs": [
        {
          "output_type": "execute_result",
          "data": {
            "text/plain": [
              "array(['Male', 'Female'], dtype=object)"
            ]
          },
          "metadata": {},
          "execution_count": 20
        }
      ]
    },
    {
      "cell_type": "code",
      "source": [
        "df=pd.get_dummies(data,columns=['Gender'])\n",
        "df.head()"
      ],
      "metadata": {
        "colab": {
          "base_uri": "https://localhost:8080/",
          "height": 206
        },
        "id": "UsZGqcbMR7b9",
        "outputId": "964a15b8-c4c8-466c-ab64-f890149b8afd"
      },
      "execution_count": 21,
      "outputs": [
        {
          "output_type": "execute_result",
          "data": {
            "text/plain": [
              "   CustomerID  Age  Annual Income (k$)  Spending Score (1-100)  Gender_Female  \\\n",
              "0           1   19                15.0                      39              0   \n",
              "1           2   21                15.0                      81              0   \n",
              "2           3   20                16.0                       6              1   \n",
              "3           4   23                16.0                      77              1   \n",
              "4           5   31                17.0                      40              1   \n",
              "\n",
              "   Gender_Male  \n",
              "0            1  \n",
              "1            1  \n",
              "2            0  \n",
              "3            0  \n",
              "4            0  "
            ],
            "text/html": [
              "\n",
              "  <div id=\"df-3a75e347-a15a-4edd-8859-2a995ee64afd\">\n",
              "    <div class=\"colab-df-container\">\n",
              "      <div>\n",
              "<style scoped>\n",
              "    .dataframe tbody tr th:only-of-type {\n",
              "        vertical-align: middle;\n",
              "    }\n",
              "\n",
              "    .dataframe tbody tr th {\n",
              "        vertical-align: top;\n",
              "    }\n",
              "\n",
              "    .dataframe thead th {\n",
              "        text-align: right;\n",
              "    }\n",
              "</style>\n",
              "<table border=\"1\" class=\"dataframe\">\n",
              "  <thead>\n",
              "    <tr style=\"text-align: right;\">\n",
              "      <th></th>\n",
              "      <th>CustomerID</th>\n",
              "      <th>Age</th>\n",
              "      <th>Annual Income (k$)</th>\n",
              "      <th>Spending Score (1-100)</th>\n",
              "      <th>Gender_Female</th>\n",
              "      <th>Gender_Male</th>\n",
              "    </tr>\n",
              "  </thead>\n",
              "  <tbody>\n",
              "    <tr>\n",
              "      <th>0</th>\n",
              "      <td>1</td>\n",
              "      <td>19</td>\n",
              "      <td>15.0</td>\n",
              "      <td>39</td>\n",
              "      <td>0</td>\n",
              "      <td>1</td>\n",
              "    </tr>\n",
              "    <tr>\n",
              "      <th>1</th>\n",
              "      <td>2</td>\n",
              "      <td>21</td>\n",
              "      <td>15.0</td>\n",
              "      <td>81</td>\n",
              "      <td>0</td>\n",
              "      <td>1</td>\n",
              "    </tr>\n",
              "    <tr>\n",
              "      <th>2</th>\n",
              "      <td>3</td>\n",
              "      <td>20</td>\n",
              "      <td>16.0</td>\n",
              "      <td>6</td>\n",
              "      <td>1</td>\n",
              "      <td>0</td>\n",
              "    </tr>\n",
              "    <tr>\n",
              "      <th>3</th>\n",
              "      <td>4</td>\n",
              "      <td>23</td>\n",
              "      <td>16.0</td>\n",
              "      <td>77</td>\n",
              "      <td>1</td>\n",
              "      <td>0</td>\n",
              "    </tr>\n",
              "    <tr>\n",
              "      <th>4</th>\n",
              "      <td>5</td>\n",
              "      <td>31</td>\n",
              "      <td>17.0</td>\n",
              "      <td>40</td>\n",
              "      <td>1</td>\n",
              "      <td>0</td>\n",
              "    </tr>\n",
              "  </tbody>\n",
              "</table>\n",
              "</div>\n",
              "      <button class=\"colab-df-convert\" onclick=\"convertToInteractive('df-3a75e347-a15a-4edd-8859-2a995ee64afd')\"\n",
              "              title=\"Convert this dataframe to an interactive table.\"\n",
              "              style=\"display:none;\">\n",
              "        \n",
              "  <svg xmlns=\"http://www.w3.org/2000/svg\" height=\"24px\"viewBox=\"0 0 24 24\"\n",
              "       width=\"24px\">\n",
              "    <path d=\"M0 0h24v24H0V0z\" fill=\"none\"/>\n",
              "    <path d=\"M18.56 5.44l.94 2.06.94-2.06 2.06-.94-2.06-.94-.94-2.06-.94 2.06-2.06.94zm-11 1L8.5 8.5l.94-2.06 2.06-.94-2.06-.94L8.5 2.5l-.94 2.06-2.06.94zm10 10l.94 2.06.94-2.06 2.06-.94-2.06-.94-.94-2.06-.94 2.06-2.06.94z\"/><path d=\"M17.41 7.96l-1.37-1.37c-.4-.4-.92-.59-1.43-.59-.52 0-1.04.2-1.43.59L10.3 9.45l-7.72 7.72c-.78.78-.78 2.05 0 2.83L4 21.41c.39.39.9.59 1.41.59.51 0 1.02-.2 1.41-.59l7.78-7.78 2.81-2.81c.8-.78.8-2.07 0-2.86zM5.41 20L4 18.59l7.72-7.72 1.47 1.35L5.41 20z\"/>\n",
              "  </svg>\n",
              "      </button>\n",
              "      \n",
              "  <style>\n",
              "    .colab-df-container {\n",
              "      display:flex;\n",
              "      flex-wrap:wrap;\n",
              "      gap: 12px;\n",
              "    }\n",
              "\n",
              "    .colab-df-convert {\n",
              "      background-color: #E8F0FE;\n",
              "      border: none;\n",
              "      border-radius: 50%;\n",
              "      cursor: pointer;\n",
              "      display: none;\n",
              "      fill: #1967D2;\n",
              "      height: 32px;\n",
              "      padding: 0 0 0 0;\n",
              "      width: 32px;\n",
              "    }\n",
              "\n",
              "    .colab-df-convert:hover {\n",
              "      background-color: #E2EBFA;\n",
              "      box-shadow: 0px 1px 2px rgba(60, 64, 67, 0.3), 0px 1px 3px 1px rgba(60, 64, 67, 0.15);\n",
              "      fill: #174EA6;\n",
              "    }\n",
              "\n",
              "    [theme=dark] .colab-df-convert {\n",
              "      background-color: #3B4455;\n",
              "      fill: #D2E3FC;\n",
              "    }\n",
              "\n",
              "    [theme=dark] .colab-df-convert:hover {\n",
              "      background-color: #434B5C;\n",
              "      box-shadow: 0px 1px 3px 1px rgba(0, 0, 0, 0.15);\n",
              "      filter: drop-shadow(0px 1px 2px rgba(0, 0, 0, 0.3));\n",
              "      fill: #FFFFFF;\n",
              "    }\n",
              "  </style>\n",
              "\n",
              "      <script>\n",
              "        const buttonEl =\n",
              "          document.querySelector('#df-3a75e347-a15a-4edd-8859-2a995ee64afd button.colab-df-convert');\n",
              "        buttonEl.style.display =\n",
              "          google.colab.kernel.accessAllowed ? 'block' : 'none';\n",
              "\n",
              "        async function convertToInteractive(key) {\n",
              "          const element = document.querySelector('#df-3a75e347-a15a-4edd-8859-2a995ee64afd');\n",
              "          const dataTable =\n",
              "            await google.colab.kernel.invokeFunction('convertToInteractive',\n",
              "                                                     [key], {});\n",
              "          if (!dataTable) return;\n",
              "\n",
              "          const docLinkHtml = 'Like what you see? Visit the ' +\n",
              "            '<a target=\"_blank\" href=https://colab.research.google.com/notebooks/data_table.ipynb>data table notebook</a>'\n",
              "            + ' to learn more about interactive tables.';\n",
              "          element.innerHTML = '';\n",
              "          dataTable['output_type'] = 'display_data';\n",
              "          await google.colab.output.renderOutput(dataTable, element);\n",
              "          const docLink = document.createElement('div');\n",
              "          docLink.innerHTML = docLinkHtml;\n",
              "          element.appendChild(docLink);\n",
              "        }\n",
              "      </script>\n",
              "    </div>\n",
              "  </div>\n",
              "  "
            ]
          },
          "metadata": {},
          "execution_count": 21
        }
      ]
    },
    {
      "cell_type": "markdown",
      "source": [
        "#8.SCALING THE DATA"
      ],
      "metadata": {
        "id": "DyFvk5VYSEGb"
      }
    },
    {
      "cell_type": "code",
      "source": [
        "from sklearn.preprocessing import MinMaxScaler\n",
        "sc=MinMaxScaler()"
      ],
      "metadata": {
        "id": "Abi2Ww95SH6T"
      },
      "execution_count": 22,
      "outputs": []
    },
    {
      "cell_type": "code",
      "source": [
        "mall=sc.fit_transform(df.iloc[:,1:])\n",
        "\n",
        "mall"
      ],
      "metadata": {
        "colab": {
          "base_uri": "https://localhost:8080/"
        },
        "id": "N5MchAMtSOPc",
        "outputId": "22ba8518-0d3d-4451-a30b-cade9eccc2b2"
      },
      "execution_count": 23,
      "outputs": [
        {
          "output_type": "execute_result",
          "data": {
            "text/plain": [
              "array([[0.01923077, 0.        , 0.3877551 , 0.        , 1.        ],\n",
              "       [0.05769231, 0.        , 0.81632653, 0.        , 1.        ],\n",
              "       [0.03846154, 0.00900901, 0.05102041, 1.        , 0.        ],\n",
              "       [0.09615385, 0.00900901, 0.7755102 , 1.        , 0.        ],\n",
              "       [0.25      , 0.01801802, 0.39795918, 1.        , 0.        ],\n",
              "       [0.07692308, 0.01801802, 0.76530612, 1.        , 0.        ],\n",
              "       [0.32692308, 0.02702703, 0.05102041, 1.        , 0.        ],\n",
              "       [0.09615385, 0.02702703, 0.94897959, 1.        , 0.        ],\n",
              "       [0.88461538, 0.03603604, 0.02040816, 0.        , 1.        ],\n",
              "       [0.23076923, 0.03603604, 0.7244898 , 1.        , 0.        ],\n",
              "       [0.94230769, 0.03603604, 0.13265306, 0.        , 1.        ],\n",
              "       [0.32692308, 0.03603604, 1.        , 1.        , 0.        ],\n",
              "       [0.76923077, 0.04504505, 0.14285714, 1.        , 0.        ],\n",
              "       [0.11538462, 0.04504505, 0.7755102 , 1.        , 0.        ],\n",
              "       [0.36538462, 0.04504505, 0.12244898, 0.        , 1.        ],\n",
              "       [0.07692308, 0.04504505, 0.79591837, 0.        , 1.        ],\n",
              "       [0.32692308, 0.05405405, 0.34693878, 1.        , 0.        ],\n",
              "       [0.03846154, 0.05405405, 0.66326531, 0.        , 1.        ],\n",
              "       [0.65384615, 0.07207207, 0.28571429, 0.        , 1.        ],\n",
              "       [0.32692308, 0.07207207, 0.98979592, 1.        , 0.        ],\n",
              "       [0.32692308, 0.08108108, 0.34693878, 0.        , 1.        ],\n",
              "       [0.13461538, 0.08108108, 0.73469388, 0.        , 1.        ],\n",
              "       [0.53846154, 0.09009009, 0.04081633, 1.        , 0.        ],\n",
              "       [0.25      , 0.09009009, 0.73469388, 0.        , 1.        ],\n",
              "       [0.69230769, 0.11711712, 0.13265306, 1.        , 0.        ],\n",
              "       [0.21153846, 0.11711712, 0.82653061, 0.        , 1.        ],\n",
              "       [0.51923077, 0.11711712, 0.31632653, 1.        , 0.        ],\n",
              "       [0.32692308, 0.11711712, 0.6122449 , 0.        , 1.        ],\n",
              "       [0.42307692, 0.12612613, 0.30612245, 1.        , 0.        ],\n",
              "       [0.09615385, 0.12612613, 0.87755102, 1.        , 0.        ],\n",
              "       [0.80769231, 0.13513514, 0.03061224, 0.        , 1.        ],\n",
              "       [0.05769231, 0.13513514, 0.73469388, 1.        , 0.        ],\n",
              "       [0.67307692, 0.16216216, 0.03061224, 0.        , 1.        ],\n",
              "       [0.        , 0.16216216, 0.92857143, 0.        , 1.        ],\n",
              "       [0.59615385, 0.16216216, 0.13265306, 1.        , 0.        ],\n",
              "       [0.05769231, 0.16216216, 0.81632653, 1.        , 0.        ],\n",
              "       [0.46153846, 0.17117117, 0.16326531, 1.        , 0.        ],\n",
              "       [0.23076923, 0.17117117, 0.73469388, 1.        , 0.        ],\n",
              "       [0.34615385, 0.1981982 , 0.25510204, 1.        , 0.        ],\n",
              "       [0.03846154, 0.1981982 , 0.75510204, 1.        , 0.        ],\n",
              "       [0.90384615, 0.20720721, 0.34693878, 1.        , 0.        ],\n",
              "       [0.11538462, 0.20720721, 0.92857143, 0.        , 1.        ],\n",
              "       [0.57692308, 0.21621622, 0.35714286, 0.        , 1.        ],\n",
              "       [0.25      , 0.21621622, 0.6122449 , 1.        , 0.        ],\n",
              "       [0.59615385, 0.21621622, 0.2755102 , 1.        , 0.        ],\n",
              "       [0.11538462, 0.21621622, 0.65306122, 1.        , 0.        ],\n",
              "       [0.61538462, 0.22522523, 0.55102041, 1.        , 0.        ],\n",
              "       [0.17307692, 0.22522523, 0.46938776, 1.        , 0.        ],\n",
              "       [0.21153846, 0.22522523, 0.41836735, 1.        , 0.        ],\n",
              "       [0.25      , 0.22522523, 0.41836735, 1.        , 0.        ],\n",
              "       [0.59615385, 0.24324324, 0.52040816, 1.        , 0.        ],\n",
              "       [0.28846154, 0.24324324, 0.60204082, 0.        , 1.        ],\n",
              "       [0.25      , 0.25225225, 0.54081633, 1.        , 0.        ],\n",
              "       [0.78846154, 0.25225225, 0.60204082, 0.        , 1.        ],\n",
              "       [0.61538462, 0.25225225, 0.44897959, 1.        , 0.        ],\n",
              "       [0.55769231, 0.25225225, 0.40816327, 0.        , 1.        ],\n",
              "       [0.63461538, 0.26126126, 0.5       , 1.        , 0.        ],\n",
              "       [0.98076923, 0.26126126, 0.45918367, 0.        , 1.        ],\n",
              "       [0.17307692, 0.27927928, 0.51020408, 1.        , 0.        ],\n",
              "       [0.67307692, 0.27927928, 0.45918367, 0.        , 1.        ],\n",
              "       [1.        , 0.27927928, 0.56122449, 0.        , 1.        ],\n",
              "       [0.01923077, 0.27927928, 0.55102041, 0.        , 1.        ],\n",
              "       [0.94230769, 0.28828829, 0.52040816, 1.        , 0.        ],\n",
              "       [0.69230769, 0.28828829, 0.59183673, 1.        , 0.        ],\n",
              "       [0.86538462, 0.2972973 , 0.51020408, 0.        , 1.        ],\n",
              "       [0.        , 0.2972973 , 0.59183673, 0.        , 1.        ],\n",
              "       [0.48076923, 0.2972973 , 0.5       , 1.        , 0.        ],\n",
              "       [0.96153846, 0.2972973 , 0.47959184, 1.        , 0.        ],\n",
              "       [0.01923077, 0.2972973 , 0.59183673, 0.        , 1.        ],\n",
              "       [0.26923077, 0.2972973 , 0.46938776, 1.        , 0.        ],\n",
              "       [1.        , 0.30630631, 0.55102041, 0.        , 1.        ],\n",
              "       [0.55769231, 0.30630631, 0.41836735, 1.        , 0.        ],\n",
              "       [0.80769231, 0.31531532, 0.48979592, 1.        , 0.        ],\n",
              "       [0.80769231, 0.31531532, 0.56122449, 1.        , 0.        ],\n",
              "       [0.78846154, 0.35135135, 0.46938776, 0.        , 1.        ],\n",
              "       [0.15384615, 0.35135135, 0.54081633, 0.        , 1.        ],\n",
              "       [0.51923077, 0.35135135, 0.53061224, 1.        , 0.        ],\n",
              "       [0.42307692, 0.35135135, 0.47959184, 0.        , 1.        ],\n",
              "       [0.09615385, 0.35135135, 0.52040816, 1.        , 0.        ],\n",
              "       [0.59615385, 0.35135135, 0.41836735, 1.        , 0.        ],\n",
              "       [0.75      , 0.35135135, 0.51020408, 0.        , 1.        ],\n",
              "       [0.38461538, 0.35135135, 0.55102041, 0.        , 1.        ],\n",
              "       [0.94230769, 0.35135135, 0.40816327, 0.        , 1.        ],\n",
              "       [0.53846154, 0.35135135, 0.43877551, 1.        , 0.        ],\n",
              "       [0.05769231, 0.35135135, 0.57142857, 1.        , 0.        ],\n",
              "       [0.57692308, 0.35135135, 0.45918367, 0.        , 1.        ],\n",
              "       [0.71153846, 0.37837838, 0.58163265, 1.        , 0.        ],\n",
              "       [0.07692308, 0.37837838, 0.55102041, 1.        , 0.        ],\n",
              "       [0.30769231, 0.38738739, 0.60204082, 1.        , 0.        ],\n",
              "       [0.61538462, 0.38738739, 0.45918367, 1.        , 0.        ],\n",
              "       [0.96153846, 0.3963964 , 0.55102041, 1.        , 0.        ],\n",
              "       [0.        , 0.3963964 , 0.40816327, 0.        , 1.        ],\n",
              "       [0.57692308, 0.40540541, 0.48979592, 0.        , 1.        ],\n",
              "       [0.42307692, 0.40540541, 0.39795918, 1.        , 0.        ],\n",
              "       [0.26923077, 0.40540541, 0.41836735, 1.        , 0.        ],\n",
              "       [0.11538462, 0.40540541, 0.52040816, 0.        , 1.        ],\n",
              "       [0.55769231, 0.40540541, 0.46938776, 1.        , 0.        ],\n",
              "       [0.17307692, 0.40540541, 0.5       , 1.        , 0.        ],\n",
              "       [0.57692308, 0.41441441, 0.41836735, 0.        , 1.        ],\n",
              "       [0.03846154, 0.41441441, 0.48979592, 0.        , 1.        ],\n",
              "       [0.09615385, 0.42342342, 0.40816327, 1.        , 0.        ],\n",
              "       [0.59615385, 0.42342342, 0.47959184, 1.        , 0.        ],\n",
              "       [0.94230769, 0.42342342, 0.59183673, 0.        , 1.        ],\n",
              "       [0.15384615, 0.42342342, 0.55102041, 0.        , 1.        ],\n",
              "       [0.59615385, 0.42342342, 0.56122449, 0.        , 1.        ],\n",
              "       [0.05769231, 0.42342342, 0.41836735, 1.        , 0.        ],\n",
              "       [0.92307692, 0.43243243, 0.5       , 1.        , 0.        ],\n",
              "       [0.69230769, 0.43243243, 0.45918367, 0.        , 1.        ],\n",
              "       [0.96153846, 0.43243243, 0.42857143, 0.        , 1.        ],\n",
              "       [0.92307692, 0.43243243, 0.47959184, 0.        , 1.        ],\n",
              "       [0.90384615, 0.43243243, 0.52040816, 0.        , 1.        ],\n",
              "       [0.01923077, 0.43243243, 0.54081633, 1.        , 0.        ],\n",
              "       [0.38461538, 0.44144144, 0.41836735, 1.        , 0.        ],\n",
              "       [0.01923077, 0.44144144, 0.45918367, 0.        , 1.        ],\n",
              "       [0.        , 0.45045045, 0.47959184, 1.        , 0.        ],\n",
              "       [0.01923077, 0.45045045, 0.5       , 1.        , 0.        ],\n",
              "       [0.86538462, 0.45045045, 0.42857143, 1.        , 0.        ],\n",
              "       [0.59615385, 0.45045045, 0.59183673, 1.        , 0.        ],\n",
              "       [0.63461538, 0.46846847, 0.42857143, 1.        , 0.        ],\n",
              "       [0.61538462, 0.46846847, 0.57142857, 1.        , 0.        ],\n",
              "       [0.17307692, 0.46846847, 0.56122449, 0.        , 1.        ],\n",
              "       [0.38461538, 0.46846847, 0.39795918, 1.        , 0.        ],\n",
              "       [0.42307692, 0.48648649, 0.58163265, 1.        , 0.        ],\n",
              "       [0.40384615, 0.48648649, 0.91836735, 0.        , 1.        ],\n",
              "       [0.09615385, 0.4954955 , 0.28571429, 1.        , 0.        ],\n",
              "       [0.25      , 0.4954955 , 0.7755102 , 1.        , 0.        ],\n",
              "       [0.48076923, 0.5045045 , 0.34693878, 0.        , 1.        ],\n",
              "       [0.42307692, 0.5045045 , 0.95918367, 0.        , 1.        ],\n",
              "       [0.78846154, 0.5045045 , 0.10204082, 0.        , 1.        ],\n",
              "       [0.38461538, 0.5045045 , 0.75510204, 0.        , 1.        ],\n",
              "       [0.55769231, 0.5045045 , 0.08163265, 0.        , 1.        ],\n",
              "       [0.40384615, 0.5045045 , 0.75510204, 0.        , 1.        ],\n",
              "       [0.13461538, 0.51351351, 0.33673469, 1.        , 0.        ],\n",
              "       [0.25      , 0.51351351, 0.71428571, 1.        , 0.        ],\n",
              "       [0.03846154, 0.52252252, 0.04081633, 0.        , 1.        ],\n",
              "       [0.21153846, 0.52252252, 0.8877551 , 1.        , 0.        ],\n",
              "       [0.5       , 0.52252252, 0.06122449, 1.        , 0.        ],\n",
              "       [0.26923077, 0.52252252, 0.73469388, 0.        , 1.        ],\n",
              "       [0.01923077, 0.53153153, 0.09183673, 0.        , 1.        ],\n",
              "       [0.32692308, 0.53153153, 0.7244898 , 1.        , 0.        ],\n",
              "       [0.75      , 0.54054054, 0.04081633, 1.        , 0.        ],\n",
              "       [0.26923077, 0.54054054, 0.93877551, 0.        , 1.        ],\n",
              "       [0.19230769, 0.54954955, 0.39795918, 1.        , 0.        ],\n",
              "       [0.26923077, 0.54954955, 0.87755102, 1.        , 0.        ],\n",
              "       [0.13461538, 0.55855856, 0.1122449 , 0.        , 1.        ],\n",
              "       [0.19230769, 0.55855856, 0.97959184, 0.        , 1.        ],\n",
              "       [0.57692308, 0.55855856, 0.35714286, 0.        , 1.        ],\n",
              "       [0.26923077, 0.55855856, 0.74489796, 1.        , 0.        ],\n",
              "       [0.30769231, 0.56756757, 0.21428571, 1.        , 0.        ],\n",
              "       [0.30769231, 0.56756757, 0.90816327, 0.        , 1.        ],\n",
              "       [0.48076923, 0.56756757, 0.16326531, 0.        , 1.        ],\n",
              "       [0.40384615, 0.56756757, 0.8877551 , 0.        , 1.        ],\n",
              "       [0.5       , 0.56756757, 0.19387755, 1.        , 0.        ],\n",
              "       [0.38461538, 0.56756757, 0.76530612, 1.        , 0.        ],\n",
              "       [0.55769231, 0.56756757, 0.15306122, 1.        , 0.        ],\n",
              "       [0.17307692, 0.56756757, 0.89795918, 1.        , 0.        ],\n",
              "       [0.36538462, 0.56756757, 0.        , 0.        , 1.        ],\n",
              "       [0.23076923, 0.56756757, 0.78571429, 1.        , 0.        ],\n",
              "       [0.30769231, 0.56756757, 0.        , 0.        , 1.        ],\n",
              "       [0.23076923, 0.56756757, 0.73469388, 1.        , 0.        ],\n",
              "       [0.73076923, 0.57657658, 0.34693878, 1.        , 0.        ],\n",
              "       [0.21153846, 0.57657658, 0.83673469, 1.        , 0.        ],\n",
              "       [0.01923077, 0.59459459, 0.04081633, 0.        , 1.        ],\n",
              "       [0.25      , 0.59459459, 0.93877551, 1.        , 0.        ],\n",
              "       [0.61538462, 0.63063063, 0.25510204, 0.        , 1.        ],\n",
              "       [0.34615385, 0.63063063, 0.75510204, 1.        , 0.        ],\n",
              "       [0.46153846, 0.63963964, 0.19387755, 0.        , 1.        ],\n",
              "       [0.28846154, 0.63963964, 0.95918367, 1.        , 0.        ],\n",
              "       [0.34615385, 0.64864865, 0.26530612, 1.        , 0.        ],\n",
              "       [0.26923077, 0.64864865, 0.63265306, 0.        , 1.        ],\n",
              "       [0.42307692, 0.64864865, 0.12244898, 0.        , 1.        ],\n",
              "       [0.19230769, 0.64864865, 0.75510204, 0.        , 1.        ],\n",
              "       [0.34615385, 0.64864865, 0.09183673, 0.        , 1.        ],\n",
              "       [0.34615385, 0.64864865, 0.92857143, 0.        , 1.        ],\n",
              "       [0.65384615, 0.65765766, 0.12244898, 1.        , 0.        ],\n",
              "       [0.23076923, 0.65765766, 0.86734694, 1.        , 0.        ],\n",
              "       [0.76923077, 0.65765766, 0.14285714, 0.        , 1.        ],\n",
              "       [0.17307692, 0.65765766, 0.69387755, 0.        , 1.        ],\n",
              "       [0.78846154, 0.7027027 , 0.13265306, 0.        , 1.        ],\n",
              "       [0.32692308, 0.7027027 , 0.90816327, 0.        , 1.        ],\n",
              "       [0.36538462, 0.73873874, 0.31632653, 1.        , 0.        ],\n",
              "       [0.26923077, 0.73873874, 0.86734694, 1.        , 0.        ],\n",
              "       [0.53846154, 0.74774775, 0.14285714, 0.        , 1.        ],\n",
              "       [0.21153846, 0.74774775, 0.8877551 , 1.        , 0.        ],\n",
              "       [0.44230769, 0.75675676, 0.3877551 , 1.        , 0.        ],\n",
              "       [0.23076923, 0.75675676, 0.97959184, 0.        , 1.        ],\n",
              "       [0.69230769, 0.77477477, 0.23469388, 1.        , 0.        ],\n",
              "       [0.19230769, 0.77477477, 0.68367347, 0.        , 1.        ],\n",
              "       [0.44230769, 0.79279279, 0.16326531, 1.        , 0.        ],\n",
              "       [0.34615385, 0.79279279, 0.85714286, 1.        , 0.        ],\n",
              "       [0.30769231, 0.79279279, 0.2244898 , 1.        , 0.        ],\n",
              "       [0.26923077, 0.79279279, 0.69387755, 1.        , 0.        ],\n",
              "       [0.28846154, 0.88288288, 0.07142857, 0.        , 1.        ],\n",
              "       [0.38461538, 0.88288288, 0.91836735, 1.        , 0.        ],\n",
              "       [0.55769231, 0.94594595, 0.15306122, 1.        , 0.        ],\n",
              "       [0.32692308, 0.94594595, 0.79591837, 1.        , 0.        ],\n",
              "       [0.51923077, 1.        , 0.2755102 , 1.        , 0.        ],\n",
              "       [0.26923077, 1.        , 0.74489796, 0.        , 1.        ],\n",
              "       [0.26923077, 0.41045045, 0.17346939, 0.        , 1.        ],\n",
              "       [0.23076923, 0.41045045, 0.83673469, 0.        , 1.        ]])"
            ]
          },
          "metadata": {},
          "execution_count": 23
        }
      ]
    },
    {
      "cell_type": "markdown",
      "source": [
        "#9.PERFORM CLUSTERING ALGORITHM"
      ],
      "metadata": {
        "id": "rgLC6Dw1SW7U"
      }
    },
    {
      "cell_type": "code",
      "source": [
        "from sklearn.cluster import KMeans"
      ],
      "metadata": {
        "id": "xr2LPFQ6SWEK"
      },
      "execution_count": 24,
      "outputs": []
    },
    {
      "cell_type": "code",
      "source": [
        "TWSS=[]\n",
        "k=list(range(2,9))\n",
        "\n",
        "for i in k:\n",
        "    kmeans=KMeans(n_clusters=i,init='k-means++')\n",
        "    kmeans.fit(mall)\n",
        "    TWSS.append(kmeans.inertia_)"
      ],
      "metadata": {
        "id": "h0xsdaW9Sh-l"
      },
      "execution_count": 25,
      "outputs": []
    },
    {
      "cell_type": "code",
      "source": [
        "#scree plot\n",
        "\n",
        "plt.plot(k,TWSS,'ro--')\n",
        "plt.xlabel('no of cluster')\n",
        "plt.ylabel('TWSS')"
      ],
      "metadata": {
        "colab": {
          "base_uri": "https://localhost:8080/",
          "height": 296
        },
        "id": "rBqLkGulSmQx",
        "outputId": "4f6a4ade-95db-4e98-e746-4ac80ecf5ed7"
      },
      "execution_count": 26,
      "outputs": [
        {
          "output_type": "execute_result",
          "data": {
            "text/plain": [
              "Text(0, 0.5, 'TWSS')"
            ]
          },
          "metadata": {},
          "execution_count": 26
        },
        {
          "output_type": "display_data",
          "data": {
            "text/plain": [
              "<Figure size 432x288 with 1 Axes>"
            ],
            "image/png": "[encoded data removed]"
          },
          "metadata": {
            "needs_background": "light"
          }
        }
      ]
    },
    {
      "cell_type": "code",
      "source": [
        "#selecting 4 clusters \n",
        "\n",
        "model=KMeans(n_clusters=4)\n",
        "\n",
        "model.fit(mall)"
      ],
      "metadata": {
        "colab": {
          "base_uri": "https://localhost:8080/"
        },
        "id": "GA_SkI-9Su0u",
        "outputId": "0121bec0-59e8-4464-b4c6-32a4c2da65c6"
      },
      "execution_count": 27,
      "outputs": [
        {
          "output_type": "execute_result",
          "data": {
            "text/plain": [
              "KMeans(n_clusters=4)"
            ]
          },
          "metadata": {},
          "execution_count": 27
        }
      ]
    },
    {
      "cell_type": "code",
      "source": [
        "model.labels_"
      ],
      "metadata": {
        "colab": {
          "base_uri": "https://localhost:8080/"
        },
        "id": "Vxyl3Uq0Szoo",
        "outputId": "3cbadfb8-3d7d-4173-8d49-6ca8ddc83c27"
      },
      "execution_count": 28,
      "outputs": [
        {
          "output_type": "execute_result",
          "data": {
            "text/plain": [
              "array([2, 2, 0, 3, 3, 3, 0, 3, 1, 3, 1, 3, 0, 3, 1, 2, 0, 2, 1, 3, 1, 2,\n",
              "       0, 2, 0, 2, 0, 2, 0, 3, 1, 3, 1, 2, 0, 3, 0, 3, 0, 3, 0, 2, 1, 3,\n",
              "       0, 3, 0, 3, 3, 3, 0, 2, 3, 1, 0, 1, 0, 1, 3, 1, 1, 2, 0, 0, 1, 2,\n",
              "       0, 0, 2, 3, 1, 0, 0, 0, 1, 2, 0, 1, 3, 0, 1, 2, 1, 0, 3, 1, 0, 3,\n",
              "       3, 0, 0, 2, 1, 0, 3, 2, 0, 3, 1, 2, 3, 0, 1, 2, 1, 3, 0, 1, 1, 1,\n",
              "       1, 3, 0, 2, 3, 3, 0, 0, 0, 0, 2, 0, 3, 2, 3, 3, 1, 2, 1, 2, 1, 2,\n",
              "       3, 3, 1, 3, 0, 2, 1, 3, 0, 2, 3, 3, 1, 2, 1, 3, 0, 2, 1, 2, 0, 3,\n",
              "       0, 3, 1, 3, 1, 3, 0, 3, 1, 3, 1, 3, 1, 3, 0, 2, 1, 2, 1, 2, 0, 3,\n",
              "       1, 2, 1, 2, 0, 3, 1, 3, 0, 2, 0, 2, 0, 3, 0, 3, 1, 3, 0, 3, 0, 2,\n",
              "       1, 2], dtype=int32)"
            ]
          },
          "metadata": {},
          "execution_count": 28
        }
      ]
    },
    {
      "cell_type": "code",
      "source": [
        "mb=pd.Series(model.labels_)"
      ],
      "metadata": {
        "id": "-trGJuHAS36X"
      },
      "execution_count": 29,
      "outputs": []
    },
    {
      "cell_type": "markdown",
      "source": [
        "# 10.ADD THE CLUSTER DATA WITH THE PRIMARY DATASET"
      ],
      "metadata": {
        "id": "aSB7dtUDS7j8"
      }
    },
    {
      "cell_type": "code",
      "source": [
        "df['clust']=mb"
      ],
      "metadata": {
        "id": "GWHuJONBTDn-"
      },
      "execution_count": 30,
      "outputs": []
    },
    {
      "cell_type": "code",
      "source": [
        "df.head()"
      ],
      "metadata": {
        "colab": {
          "base_uri": "https://localhost:8080/",
          "height": 206
        },
        "id": "0R0sRueFTL4U",
        "outputId": "9b838a17-cfed-4db7-91ab-08dbed4336d9"
      },
      "execution_count": 31,
      "outputs": [
        {
          "output_type": "execute_result",
          "data": {
            "text/plain": [
              "   CustomerID  Age  Annual Income (k$)  Spending Score (1-100)  Gender_Female  \\\n",
              "0           1   19                15.0                      39              0   \n",
              "1           2   21                15.0                      81              0   \n",
              "2           3   20                16.0                       6              1   \n",
              "3           4   23                16.0                      77              1   \n",
              "4           5   31                17.0                      40              1   \n",
              "\n",
              "   Gender_Male  clust  \n",
              "0            1      2  \n",
              "1            1      2  \n",
              "2            0      0  \n",
              "3            0      3  \n",
              "4            0      3  "
            ],
            "text/html": [
              "\n",
              "  <div id=\"df-581a84fd-8c6a-4658-8435-1488a76209c9\">\n",
              "    <div class=\"colab-df-container\">\n",
              "      <div>\n",
              "<style scoped>\n",
              "    .dataframe tbody tr th:only-of-type {\n",
              "        vertical-align: middle;\n",
              "    }\n",
              "\n",
              "    .dataframe tbody tr th {\n",
              "        vertical-align: top;\n",
              "    }\n",
              "\n",
              "    .dataframe thead th {\n",
              "        text-align: right;\n",
              "    }\n",
              "</style>\n",
              "<table border=\"1\" class=\"dataframe\">\n",
              "  <thead>\n",
              "    <tr style=\"text-align: right;\">\n",
              "      <th></th>\n",
              "      <th>CustomerID</th>\n",
              "      <th>Age</th>\n",
              "      <th>Annual Income (k$)</th>\n",
              "      <th>Spending Score (1-100)</th>\n",
              "      <th>Gender_Female</th>\n",
              "      <th>Gender_Male</th>\n",
              "      <th>clust</th>\n",
              "    </tr>\n",
              "  </thead>\n",
              "  <tbody>\n",
              "    <tr>\n",
              "      <th>0</th>\n",
              "      <td>1</td>\n",
              "      <td>19</td>\n",
              "      <td>15.0</td>\n",
              "      <td>39</td>\n",
              "      <td>0</td>\n",
              "      <td>1</td>\n",
              "      <td>2</td>\n",
              "    </tr>\n",
              "    <tr>\n",
              "      <th>1</th>\n",
              "      <td>2</td>\n",
              "      <td>21</td>\n",
              "      <td>15.0</td>\n",
              "      <td>81</td>\n",
              "      <td>0</td>\n",
              "      <td>1</td>\n",
              "      <td>2</td>\n",
              "    </tr>\n",
              "    <tr>\n",
              "      <th>2</th>\n",
              "      <td>3</td>\n",
              "      <td>20</td>\n",
              "      <td>16.0</td>\n",
              "      <td>6</td>\n",
              "      <td>1</td>\n",
              "      <td>0</td>\n",
              "      <td>0</td>\n",
              "    </tr>\n",
              "    <tr>\n",
              "      <th>3</th>\n",
              "      <td>4</td>\n",
              "      <td>23</td>\n",
              "      <td>16.0</td>\n",
              "      <td>77</td>\n",
              "      <td>1</td>\n",
              "      <td>0</td>\n",
              "      <td>3</td>\n",
              "    </tr>\n",
              "    <tr>\n",
              "      <th>4</th>\n",
              "      <td>5</td>\n",
              "      <td>31</td>\n",
              "      <td>17.0</td>\n",
              "      <td>40</td>\n",
              "      <td>1</td>\n",
              "      <td>0</td>\n",
              "      <td>3</td>\n",
              "    </tr>\n",
              "  </tbody>\n",
              "</table>\n",
              "</div>\n",
              "      <button class=\"colab-df-convert\" onclick=\"convertToInteractive('df-581a84fd-8c6a-4658-8435-1488a76209c9')\"\n",
              "              title=\"Convert this dataframe to an interactive table.\"\n",
              "              style=\"display:none;\">\n",
              "        \n",
              "  <svg xmlns=\"http://www.w3.org/2000/svg\" height=\"24px\"viewBox=\"0 0 24 24\"\n",
              "       width=\"24px\">\n",
              "    <path d=\"M0 0h24v24H0V0z\" fill=\"none\"/>\n",
              "    <path d=\"M18.56 5.44l.94 2.06.94-2.06 2.06-.94-2.06-.94-.94-2.06-.94 2.06-2.06.94zm-11 1L8.5 8.5l.94-2.06 2.06-.94-2.06-.94L8.5 2.5l-.94 2.06-2.06.94zm10 10l.94 2.06.94-2.06 2.06-.94-2.06-.94-.94-2.06-.94 2.06-2.06.94z\"/><path d=\"M17.41 7.96l-1.37-1.37c-.4-.4-.92-.59-1.43-.59-.52 0-1.04.2-1.43.59L10.3 9.45l-7.72 7.72c-.78.78-.78 2.05 0 2.83L4 21.41c.39.39.9.59 1.41.59.51 0 1.02-.2 1.41-.59l7.78-7.78 2.81-2.81c.8-.78.8-2.07 0-2.86zM5.41 20L4 18.59l7.72-7.72 1.47 1.35L5.41 20z\"/>\n",
              "  </svg>\n",
              "      </button>\n",
              "      \n",
              "  <style>\n",
              "    .colab-df-container {\n",
              "      display:flex;\n",
              "      flex-wrap:wrap;\n",
              "      gap: 12px;\n",
              "    }\n",
              "\n",
              "    .colab-df-convert {\n",
              "      background-color: #E8F0FE;\n",
              "      border: none;\n",
              "      border-radius: 50%;\n",
              "      cursor: pointer;\n",
              "      display: none;\n",
              "      fill: #1967D2;\n",
              "      height: 32px;\n",
              "      padding: 0 0 0 0;\n",
              "      width: 32px;\n",
              "    }\n",
              "\n",
              "    .colab-df-convert:hover {\n",
              "      background-color: #E2EBFA;\n",
              "      box-shadow: 0px 1px 2px rgba(60, 64, 67, 0.3), 0px 1px 3px 1px rgba(60, 64, 67, 0.15);\n",
              "      fill: #174EA6;\n",
              "    }\n",
              "\n",
              "    [theme=dark] .colab-df-convert {\n",
              "      background-color: #3B4455;\n",
              "      fill: #D2E3FC;\n",
              "    }\n",
              "\n",
              "    [theme=dark] .colab-df-convert:hover {\n",
              "      background-color: #434B5C;\n",
              "      box-shadow: 0px 1px 3px 1px rgba(0, 0, 0, 0.15);\n",
              "      filter: drop-shadow(0px 1px 2px rgba(0, 0, 0, 0.3));\n",
              "      fill: #FFFFFF;\n",
              "    }\n",
              "  </style>\n",
              "\n",
              "      <script>\n",
              "        const buttonEl =\n",
              "          document.querySelector('#df-581a84fd-8c6a-4658-8435-1488a76209c9 button.colab-df-convert');\n",
              "        buttonEl.style.display =\n",
              "          google.colab.kernel.accessAllowed ? 'block' : 'none';\n",
              "\n",
              "        async function convertToInteractive(key) {\n",
              "          const element = document.querySelector('#df-581a84fd-8c6a-4658-8435-1488a76209c9');\n",
              "          const dataTable =\n",
              "            await google.colab.kernel.invokeFunction('convertToInteractive',\n",
              "                                                     [key], {});\n",
              "          if (!dataTable) return;\n",
              "\n",
              "          const docLinkHtml = 'Like what you see? Visit the ' +\n",
              "            '<a target=\"_blank\" href=https://colab.research.google.com/notebooks/data_table.ipynb>data table notebook</a>'\n",
              "            + ' to learn more about interactive tables.';\n",
              "          element.innerHTML = '';\n",
              "          dataTable['output_type'] = 'display_data';\n",
              "          await google.colab.output.renderOutput(dataTable, element);\n",
              "          const docLink = document.createElement('div');\n",
              "          docLink.innerHTML = docLinkHtml;\n",
              "          element.appendChild(docLink);\n",
              "        }\n",
              "      </script>\n",
              "    </div>\n",
              "  </div>\n",
              "  "
            ]
          },
          "metadata": {},
          "execution_count": 31
        }
      ]
    },
    {
      "cell_type": "markdown",
      "source": [
        "#11.SPLIT THE DATA INTO DEPENDEND AND INDEPENDEND VARIABLES\n"
      ],
      "metadata": {
        "id": "RxFPBl-ZTSED"
      }
    },
    {
      "cell_type": "code",
      "source": [
        "# dependent variable\n",
        "y=df['clust'].values\n",
        "y"
      ],
      "metadata": {
        "colab": {
          "base_uri": "https://localhost:8080/"
        },
        "id": "gdjlCVetThpq",
        "outputId": "b3f6ae7f-d184-498f-c026-867860dd4bf7"
      },
      "execution_count": 32,
      "outputs": [
        {
          "output_type": "execute_result",
          "data": {
            "text/plain": [
              "array([2, 2, 0, 3, 3, 3, 0, 3, 1, 3, 1, 3, 0, 3, 1, 2, 0, 2, 1, 3, 1, 2,\n",
              "       0, 2, 0, 2, 0, 2, 0, 3, 1, 3, 1, 2, 0, 3, 0, 3, 0, 3, 0, 2, 1, 3,\n",
              "       0, 3, 0, 3, 3, 3, 0, 2, 3, 1, 0, 1, 0, 1, 3, 1, 1, 2, 0, 0, 1, 2,\n",
              "       0, 0, 2, 3, 1, 0, 0, 0, 1, 2, 0, 1, 3, 0, 1, 2, 1, 0, 3, 1, 0, 3,\n",
              "       3, 0, 0, 2, 1, 0, 3, 2, 0, 3, 1, 2, 3, 0, 1, 2, 1, 3, 0, 1, 1, 1,\n",
              "       1, 3, 0, 2, 3, 3, 0, 0, 0, 0, 2, 0, 3, 2, 3, 3, 1, 2, 1, 2, 1, 2,\n",
              "       3, 3, 1, 3, 0, 2, 1, 3, 0, 2, 3, 3, 1, 2, 1, 3, 0, 2, 1, 2, 0, 3,\n",
              "       0, 3, 1, 3, 1, 3, 0, 3, 1, 3, 1, 3, 1, 3, 0, 2, 1, 2, 1, 2, 0, 3,\n",
              "       1, 2, 1, 2, 0, 3, 1, 3, 0, 2, 0, 2, 0, 3, 0, 3, 1, 3, 0, 3, 0, 2,\n",
              "       1, 2], dtype=int32)"
            ]
          },
          "metadata": {},
          "execution_count": 32
        }
      ]
    },
    {
      "cell_type": "code",
      "source": [
        "#independent variable\n",
        "\n",
        "x=df.drop(columns=['clust','CustomerID'],axis=1).values\n",
        "x"
      ],
      "metadata": {
        "colab": {
          "base_uri": "https://localhost:8080/"
        },
        "id": "cKCHygnqTwdu",
        "outputId": "5d49ed11-cda4-42a7-fe5e-dd760ec609ee"
      },
      "execution_count": 33,
      "outputs": [
        {
          "output_type": "execute_result",
          "data": {
            "text/plain": [
              "array([[ 19.  ,  15.  ,  39.  ,   0.  ,   1.  ],\n",
              "       [ 21.  ,  15.  ,  81.  ,   0.  ,   1.  ],\n",
              "       [ 20.  ,  16.  ,   6.  ,   1.  ,   0.  ],\n",
              "       [ 23.  ,  16.  ,  77.  ,   1.  ,   0.  ],\n",
              "       [ 31.  ,  17.  ,  40.  ,   1.  ,   0.  ],\n",
              "       [ 22.  ,  17.  ,  76.  ,   1.  ,   0.  ],\n",
              "       [ 35.  ,  18.  ,   6.  ,   1.  ,   0.  ],\n",
              "       [ 23.  ,  18.  ,  94.  ,   1.  ,   0.  ],\n",
              "       [ 64.  ,  19.  ,   3.  ,   0.  ,   1.  ],\n",
              "       [ 30.  ,  19.  ,  72.  ,   1.  ,   0.  ],\n",
              "       [ 67.  ,  19.  ,  14.  ,   0.  ,   1.  ],\n",
              "       [ 35.  ,  19.  ,  99.  ,   1.  ,   0.  ],\n",
              "       [ 58.  ,  20.  ,  15.  ,   1.  ,   0.  ],\n",
              "       [ 24.  ,  20.  ,  77.  ,   1.  ,   0.  ],\n",
              "       [ 37.  ,  20.  ,  13.  ,   0.  ,   1.  ],\n",
              "       [ 22.  ,  20.  ,  79.  ,   0.  ,   1.  ],\n",
              "       [ 35.  ,  21.  ,  35.  ,   1.  ,   0.  ],\n",
              "       [ 20.  ,  21.  ,  66.  ,   0.  ,   1.  ],\n",
              "       [ 52.  ,  23.  ,  29.  ,   0.  ,   1.  ],\n",
              "       [ 35.  ,  23.  ,  98.  ,   1.  ,   0.  ],\n",
              "       [ 35.  ,  24.  ,  35.  ,   0.  ,   1.  ],\n",
              "       [ 25.  ,  24.  ,  73.  ,   0.  ,   1.  ],\n",
              "       [ 46.  ,  25.  ,   5.  ,   1.  ,   0.  ],\n",
              "       [ 31.  ,  25.  ,  73.  ,   0.  ,   1.  ],\n",
              "       [ 54.  ,  28.  ,  14.  ,   1.  ,   0.  ],\n",
              "       [ 29.  ,  28.  ,  82.  ,   0.  ,   1.  ],\n",
              "       [ 45.  ,  28.  ,  32.  ,   1.  ,   0.  ],\n",
              "       [ 35.  ,  28.  ,  61.  ,   0.  ,   1.  ],\n",
              "       [ 40.  ,  29.  ,  31.  ,   1.  ,   0.  ],\n",
              "       [ 23.  ,  29.  ,  87.  ,   1.  ,   0.  ],\n",
              "       [ 60.  ,  30.  ,   4.  ,   0.  ,   1.  ],\n",
              "       [ 21.  ,  30.  ,  73.  ,   1.  ,   0.  ],\n",
              "       [ 53.  ,  33.  ,   4.  ,   0.  ,   1.  ],\n",
              "       [ 18.  ,  33.  ,  92.  ,   0.  ,   1.  ],\n",
              "       [ 49.  ,  33.  ,  14.  ,   1.  ,   0.  ],\n",
              "       [ 21.  ,  33.  ,  81.  ,   1.  ,   0.  ],\n",
              "       [ 42.  ,  34.  ,  17.  ,   1.  ,   0.  ],\n",
              "       [ 30.  ,  34.  ,  73.  ,   1.  ,   0.  ],\n",
              "       [ 36.  ,  37.  ,  26.  ,   1.  ,   0.  ],\n",
              "       [ 20.  ,  37.  ,  75.  ,   1.  ,   0.  ],\n",
              "       [ 65.  ,  38.  ,  35.  ,   1.  ,   0.  ],\n",
              "       [ 24.  ,  38.  ,  92.  ,   0.  ,   1.  ],\n",
              "       [ 48.  ,  39.  ,  36.  ,   0.  ,   1.  ],\n",
              "       [ 31.  ,  39.  ,  61.  ,   1.  ,   0.  ],\n",
              "       [ 49.  ,  39.  ,  28.  ,   1.  ,   0.  ],\n",
              "       [ 24.  ,  39.  ,  65.  ,   1.  ,   0.  ],\n",
              "       [ 50.  ,  40.  ,  55.  ,   1.  ,   0.  ],\n",
              "       [ 27.  ,  40.  ,  47.  ,   1.  ,   0.  ],\n",
              "       [ 29.  ,  40.  ,  42.  ,   1.  ,   0.  ],\n",
              "       [ 31.  ,  40.  ,  42.  ,   1.  ,   0.  ],\n",
              "       [ 49.  ,  42.  ,  52.  ,   1.  ,   0.  ],\n",
              "       [ 33.  ,  42.  ,  60.  ,   0.  ,   1.  ],\n",
              "       [ 31.  ,  43.  ,  54.  ,   1.  ,   0.  ],\n",
              "       [ 59.  ,  43.  ,  60.  ,   0.  ,   1.  ],\n",
              "       [ 50.  ,  43.  ,  45.  ,   1.  ,   0.  ],\n",
              "       [ 47.  ,  43.  ,  41.  ,   0.  ,   1.  ],\n",
              "       [ 51.  ,  44.  ,  50.  ,   1.  ,   0.  ],\n",
              "       [ 69.  ,  44.  ,  46.  ,   0.  ,   1.  ],\n",
              "       [ 27.  ,  46.  ,  51.  ,   1.  ,   0.  ],\n",
              "       [ 53.  ,  46.  ,  46.  ,   0.  ,   1.  ],\n",
              "       [ 70.  ,  46.  ,  56.  ,   0.  ,   1.  ],\n",
              "       [ 19.  ,  46.  ,  55.  ,   0.  ,   1.  ],\n",
              "       [ 67.  ,  47.  ,  52.  ,   1.  ,   0.  ],\n",
              "       [ 54.  ,  47.  ,  59.  ,   1.  ,   0.  ],\n",
              "       [ 63.  ,  48.  ,  51.  ,   0.  ,   1.  ],\n",
              "       [ 18.  ,  48.  ,  59.  ,   0.  ,   1.  ],\n",
              "       [ 43.  ,  48.  ,  50.  ,   1.  ,   0.  ],\n",
              "       [ 68.  ,  48.  ,  48.  ,   1.  ,   0.  ],\n",
              "       [ 19.  ,  48.  ,  59.  ,   0.  ,   1.  ],\n",
              "       [ 32.  ,  48.  ,  47.  ,   1.  ,   0.  ],\n",
              "       [ 70.  ,  49.  ,  55.  ,   0.  ,   1.  ],\n",
              "       [ 47.  ,  49.  ,  42.  ,   1.  ,   0.  ],\n",
              "       [ 60.  ,  50.  ,  49.  ,   1.  ,   0.  ],\n",
              "       [ 60.  ,  50.  ,  56.  ,   1.  ,   0.  ],\n",
              "       [ 59.  ,  54.  ,  47.  ,   0.  ,   1.  ],\n",
              "       [ 26.  ,  54.  ,  54.  ,   0.  ,   1.  ],\n",
              "       [ 45.  ,  54.  ,  53.  ,   1.  ,   0.  ],\n",
              "       [ 40.  ,  54.  ,  48.  ,   0.  ,   1.  ],\n",
              "       [ 23.  ,  54.  ,  52.  ,   1.  ,   0.  ],\n",
              "       [ 49.  ,  54.  ,  42.  ,   1.  ,   0.  ],\n",
              "       [ 57.  ,  54.  ,  51.  ,   0.  ,   1.  ],\n",
              "       [ 38.  ,  54.  ,  55.  ,   0.  ,   1.  ],\n",
              "       [ 67.  ,  54.  ,  41.  ,   0.  ,   1.  ],\n",
              "       [ 46.  ,  54.  ,  44.  ,   1.  ,   0.  ],\n",
              "       [ 21.  ,  54.  ,  57.  ,   1.  ,   0.  ],\n",
              "       [ 48.  ,  54.  ,  46.  ,   0.  ,   1.  ],\n",
              "       [ 55.  ,  57.  ,  58.  ,   1.  ,   0.  ],\n",
              "       [ 22.  ,  57.  ,  55.  ,   1.  ,   0.  ],\n",
              "       [ 34.  ,  58.  ,  60.  ,   1.  ,   0.  ],\n",
              "       [ 50.  ,  58.  ,  46.  ,   1.  ,   0.  ],\n",
              "       [ 68.  ,  59.  ,  55.  ,   1.  ,   0.  ],\n",
              "       [ 18.  ,  59.  ,  41.  ,   0.  ,   1.  ],\n",
              "       [ 48.  ,  60.  ,  49.  ,   0.  ,   1.  ],\n",
              "       [ 40.  ,  60.  ,  40.  ,   1.  ,   0.  ],\n",
              "       [ 32.  ,  60.  ,  42.  ,   1.  ,   0.  ],\n",
              "       [ 24.  ,  60.  ,  52.  ,   0.  ,   1.  ],\n",
              "       [ 47.  ,  60.  ,  47.  ,   1.  ,   0.  ],\n",
              "       [ 27.  ,  60.  ,  50.  ,   1.  ,   0.  ],\n",
              "       [ 48.  ,  61.  ,  42.  ,   0.  ,   1.  ],\n",
              "       [ 20.  ,  61.  ,  49.  ,   0.  ,   1.  ],\n",
              "       [ 23.  ,  62.  ,  41.  ,   1.  ,   0.  ],\n",
              "       [ 49.  ,  62.  ,  48.  ,   1.  ,   0.  ],\n",
              "       [ 67.  ,  62.  ,  59.  ,   0.  ,   1.  ],\n",
              "       [ 26.  ,  62.  ,  55.  ,   0.  ,   1.  ],\n",
              "       [ 49.  ,  62.  ,  56.  ,   0.  ,   1.  ],\n",
              "       [ 21.  ,  62.  ,  42.  ,   1.  ,   0.  ],\n",
              "       [ 66.  ,  63.  ,  50.  ,   1.  ,   0.  ],\n",
              "       [ 54.  ,  63.  ,  46.  ,   0.  ,   1.  ],\n",
              "       [ 68.  ,  63.  ,  43.  ,   0.  ,   1.  ],\n",
              "       [ 66.  ,  63.  ,  48.  ,   0.  ,   1.  ],\n",
              "       [ 65.  ,  63.  ,  52.  ,   0.  ,   1.  ],\n",
              "       [ 19.  ,  63.  ,  54.  ,   1.  ,   0.  ],\n",
              "       [ 38.  ,  64.  ,  42.  ,   1.  ,   0.  ],\n",
              "       [ 19.  ,  64.  ,  46.  ,   0.  ,   1.  ],\n",
              "       [ 18.  ,  65.  ,  48.  ,   1.  ,   0.  ],\n",
              "       [ 19.  ,  65.  ,  50.  ,   1.  ,   0.  ],\n",
              "       [ 63.  ,  65.  ,  43.  ,   1.  ,   0.  ],\n",
              "       [ 49.  ,  65.  ,  59.  ,   1.  ,   0.  ],\n",
              "       [ 51.  ,  67.  ,  43.  ,   1.  ,   0.  ],\n",
              "       [ 50.  ,  67.  ,  57.  ,   1.  ,   0.  ],\n",
              "       [ 27.  ,  67.  ,  56.  ,   0.  ,   1.  ],\n",
              "       [ 38.  ,  67.  ,  40.  ,   1.  ,   0.  ],\n",
              "       [ 40.  ,  69.  ,  58.  ,   1.  ,   0.  ],\n",
              "       [ 39.  ,  69.  ,  91.  ,   0.  ,   1.  ],\n",
              "       [ 23.  ,  70.  ,  29.  ,   1.  ,   0.  ],\n",
              "       [ 31.  ,  70.  ,  77.  ,   1.  ,   0.  ],\n",
              "       [ 43.  ,  71.  ,  35.  ,   0.  ,   1.  ],\n",
              "       [ 40.  ,  71.  ,  95.  ,   0.  ,   1.  ],\n",
              "       [ 59.  ,  71.  ,  11.  ,   0.  ,   1.  ],\n",
              "       [ 38.  ,  71.  ,  75.  ,   0.  ,   1.  ],\n",
              "       [ 47.  ,  71.  ,   9.  ,   0.  ,   1.  ],\n",
              "       [ 39.  ,  71.  ,  75.  ,   0.  ,   1.  ],\n",
              "       [ 25.  ,  72.  ,  34.  ,   1.  ,   0.  ],\n",
              "       [ 31.  ,  72.  ,  71.  ,   1.  ,   0.  ],\n",
              "       [ 20.  ,  73.  ,   5.  ,   0.  ,   1.  ],\n",
              "       [ 29.  ,  73.  ,  88.  ,   1.  ,   0.  ],\n",
              "       [ 44.  ,  73.  ,   7.  ,   1.  ,   0.  ],\n",
              "       [ 32.  ,  73.  ,  73.  ,   0.  ,   1.  ],\n",
              "       [ 19.  ,  74.  ,  10.  ,   0.  ,   1.  ],\n",
              "       [ 35.  ,  74.  ,  72.  ,   1.  ,   0.  ],\n",
              "       [ 57.  ,  75.  ,   5.  ,   1.  ,   0.  ],\n",
              "       [ 32.  ,  75.  ,  93.  ,   0.  ,   1.  ],\n",
              "       [ 28.  ,  76.  ,  40.  ,   1.  ,   0.  ],\n",
              "       [ 32.  ,  76.  ,  87.  ,   1.  ,   0.  ],\n",
              "       [ 25.  ,  77.  ,  12.  ,   0.  ,   1.  ],\n",
              "       [ 28.  ,  77.  ,  97.  ,   0.  ,   1.  ],\n",
              "       [ 48.  ,  77.  ,  36.  ,   0.  ,   1.  ],\n",
              "       [ 32.  ,  77.  ,  74.  ,   1.  ,   0.  ],\n",
              "       [ 34.  ,  78.  ,  22.  ,   1.  ,   0.  ],\n",
              "       [ 34.  ,  78.  ,  90.  ,   0.  ,   1.  ],\n",
              "       [ 43.  ,  78.  ,  17.  ,   0.  ,   1.  ],\n",
              "       [ 39.  ,  78.  ,  88.  ,   0.  ,   1.  ],\n",
              "       [ 44.  ,  78.  ,  20.  ,   1.  ,   0.  ],\n",
              "       [ 38.  ,  78.  ,  76.  ,   1.  ,   0.  ],\n",
              "       [ 47.  ,  78.  ,  16.  ,   1.  ,   0.  ],\n",
              "       [ 27.  ,  78.  ,  89.  ,   1.  ,   0.  ],\n",
              "       [ 37.  ,  78.  ,   1.  ,   0.  ,   1.  ],\n",
              "       [ 30.  ,  78.  ,  78.  ,   1.  ,   0.  ],\n",
              "       [ 34.  ,  78.  ,   1.  ,   0.  ,   1.  ],\n",
              "       [ 30.  ,  78.  ,  73.  ,   1.  ,   0.  ],\n",
              "       [ 56.  ,  79.  ,  35.  ,   1.  ,   0.  ],\n",
              "       [ 29.  ,  79.  ,  83.  ,   1.  ,   0.  ],\n",
              "       [ 19.  ,  81.  ,   5.  ,   0.  ,   1.  ],\n",
              "       [ 31.  ,  81.  ,  93.  ,   1.  ,   0.  ],\n",
              "       [ 50.  ,  85.  ,  26.  ,   0.  ,   1.  ],\n",
              "       [ 36.  ,  85.  ,  75.  ,   1.  ,   0.  ],\n",
              "       [ 42.  ,  86.  ,  20.  ,   0.  ,   1.  ],\n",
              "       [ 33.  ,  86.  ,  95.  ,   1.  ,   0.  ],\n",
              "       [ 36.  ,  87.  ,  27.  ,   1.  ,   0.  ],\n",
              "       [ 32.  ,  87.  ,  63.  ,   0.  ,   1.  ],\n",
              "       [ 40.  ,  87.  ,  13.  ,   0.  ,   1.  ],\n",
              "       [ 28.  ,  87.  ,  75.  ,   0.  ,   1.  ],\n",
              "       [ 36.  ,  87.  ,  10.  ,   0.  ,   1.  ],\n",
              "       [ 36.  ,  87.  ,  92.  ,   0.  ,   1.  ],\n",
              "       [ 52.  ,  88.  ,  13.  ,   1.  ,   0.  ],\n",
              "       [ 30.  ,  88.  ,  86.  ,   1.  ,   0.  ],\n",
              "       [ 58.  ,  88.  ,  15.  ,   0.  ,   1.  ],\n",
              "       [ 27.  ,  88.  ,  69.  ,   0.  ,   1.  ],\n",
              "       [ 59.  ,  93.  ,  14.  ,   0.  ,   1.  ],\n",
              "       [ 35.  ,  93.  ,  90.  ,   0.  ,   1.  ],\n",
              "       [ 37.  ,  97.  ,  32.  ,   1.  ,   0.  ],\n",
              "       [ 32.  ,  97.  ,  86.  ,   1.  ,   0.  ],\n",
              "       [ 46.  ,  98.  ,  15.  ,   0.  ,   1.  ],\n",
              "       [ 29.  ,  98.  ,  88.  ,   1.  ,   0.  ],\n",
              "       [ 41.  ,  99.  ,  39.  ,   1.  ,   0.  ],\n",
              "       [ 30.  ,  99.  ,  97.  ,   0.  ,   1.  ],\n",
              "       [ 54.  , 101.  ,  24.  ,   1.  ,   0.  ],\n",
              "       [ 28.  , 101.  ,  68.  ,   0.  ,   1.  ],\n",
              "       [ 41.  , 103.  ,  17.  ,   1.  ,   0.  ],\n",
              "       [ 36.  , 103.  ,  85.  ,   1.  ,   0.  ],\n",
              "       [ 34.  , 103.  ,  23.  ,   1.  ,   0.  ],\n",
              "       [ 32.  , 103.  ,  69.  ,   1.  ,   0.  ],\n",
              "       [ 33.  , 113.  ,   8.  ,   0.  ,   1.  ],\n",
              "       [ 38.  , 113.  ,  91.  ,   1.  ,   0.  ],\n",
              "       [ 47.  , 120.  ,  16.  ,   1.  ,   0.  ],\n",
              "       [ 35.  , 120.  ,  79.  ,   1.  ,   0.  ],\n",
              "       [ 45.  , 126.  ,  28.  ,   1.  ,   0.  ],\n",
              "       [ 32.  , 126.  ,  74.  ,   0.  ,   1.  ],\n",
              "       [ 32.  ,  60.56,  18.  ,   0.  ,   1.  ],\n",
              "       [ 30.  ,  60.56,  83.  ,   0.  ,   1.  ]])"
            ]
          },
          "metadata": {},
          "execution_count": 33
        }
      ]
    },
    {
      "cell_type": "markdown",
      "source": [
        "#12.SPLIT THE DATA INTO TRAINING AND TESTING"
      ],
      "metadata": {
        "id": "ZLYMjY4RT3Mp"
      }
    },
    {
      "cell_type": "code",
      "source": [
        "from sklearn.model_selection import train_test_split"
      ],
      "metadata": {
        "id": "15JxcRDyT_Fj"
      },
      "execution_count": 34,
      "outputs": []
    },
    {
      "cell_type": "code",
      "source": [
        "x_train,x_test,y_train,y_test=train_test_split(x,y,test_size=0.2,random_state=0)"
      ],
      "metadata": {
        "id": "5QWv_LuDUH64"
      },
      "execution_count": 35,
      "outputs": []
    },
    {
      "cell_type": "markdown",
      "source": [
        "#13.BUILD THE MODEL"
      ],
      "metadata": {
        "id": "PuAHXUWfULLD"
      }
    },
    {
      "cell_type": "code",
      "source": [
        "from sklearn.ensemble import RandomForestClassifier"
      ],
      "metadata": {
        "id": "O0nET5N8UOpQ"
      },
      "execution_count": 36,
      "outputs": []
    },
    {
      "cell_type": "code",
      "source": [
        "rf=RandomForestClassifier()"
      ],
      "metadata": {
        "id": "tm2JSBfvUVxZ"
      },
      "execution_count": 37,
      "outputs": []
    },
    {
      "cell_type": "markdown",
      "source": [
        "#14.TRAIN THE MODEL"
      ],
      "metadata": {
        "id": "i6B-uFTaUZac"
      }
    },
    {
      "cell_type": "code",
      "source": [
        "rf.fit(x_train,y_train)"
      ],
      "metadata": {
        "colab": {
          "base_uri": "https://localhost:8080/"
        },
        "id": "1TaB3UKiUdWa",
        "outputId": "3db39586-dfac-4aab-bc48-fc1bbe03859c"
      },
      "execution_count": 38,
      "outputs": [
        {
          "output_type": "execute_result",
          "data": {
            "text/plain": [
              "RandomForestClassifier()"
            ]
          },
          "metadata": {},
          "execution_count": 38
        }
      ]
    },
    {
      "cell_type": "markdown",
      "source": [
        "#15.TEST THE MODEL"
      ],
      "metadata": {
        "id": "vgPbFkzdUknF"
      }
    },
    {
      "cell_type": "code",
      "source": [
        "pred=rf.predict(x_test)\n",
        "\n",
        "pred"
      ],
      "metadata": {
        "colab": {
          "base_uri": "https://localhost:8080/"
        },
        "id": "kOdjQorQUg3p",
        "outputId": "edc5620d-994f-440e-d884-2d3a5b2501b6"
      },
      "execution_count": 39,
      "outputs": [
        {
          "output_type": "execute_result",
          "data": {
            "text/plain": [
              "array([1, 1, 1, 1, 2, 1, 3, 1, 0, 0, 2, 3, 0, 0, 1, 3, 2, 1, 3, 1, 3, 2,\n",
              "       3, 3, 1, 2, 2, 2, 0, 0, 0, 1, 1, 3, 0, 3, 2, 3, 0, 0], dtype=int32)"
            ]
          },
          "metadata": {},
          "execution_count": 39
        }
      ]
    },
    {
      "cell_type": "markdown",
      "source": [
        "#16.MEASURE THE PERFORMANCE USING EVALUATION METRICS"
      ],
      "metadata": {
        "id": "AuThGZlWUxu4"
      }
    },
    {
      "cell_type": "code",
      "source": [
        "from sklearn.metrics import accuracy_score\n",
        "\n",
        "accuracy_score(y_test,pred)"
      ],
      "metadata": {
        "colab": {
          "base_uri": "https://localhost:8080/"
        },
        "id": "yN1nfmOkU7UF",
        "outputId": "7f5a3481-2d5c-4f1a-a7c6-762622546d19"
      },
      "execution_count": 40,
      "outputs": [
        {
          "output_type": "execute_result",
          "data": {
            "text/plain": [
              "0.975"
            ]
          },
          "metadata": {},
          "execution_count": 40
        }
      ]
    },
    {
      "cell_type": "code",
      "source": [
        "from sklearn import metrics\n",
        "metrics.confusion_matrix(y_test,pred)"
      ],
      "metadata": {
        "colab": {
          "base_uri": "https://localhost:8080/"
        },
        "id": "kCKzW9p7VFIA",
        "outputId": "4493762f-5054-477e-a683-eeb9dce7e0d1"
      },
      "execution_count": 41,
      "outputs": [
        {
          "output_type": "execute_result",
          "data": {
            "text/plain": [
              "array([[ 9,  0,  0,  0],\n",
              "       [ 0, 12,  0,  0],\n",
              "       [ 0,  0,  8,  0],\n",
              "       [ 1,  0,  0, 10]])"
            ]
          },
          "metadata": {},
          "execution_count": 41
        }
      ]
    }
  ]
}